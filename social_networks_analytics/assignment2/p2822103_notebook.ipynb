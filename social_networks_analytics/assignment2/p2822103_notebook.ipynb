{
 "cells": [
  {
   "cell_type": "markdown",
   "metadata": {},
   "source": [
    "## Course: Social Network Analysis – Spring 2022 <br>\n",
    "M.Sc. Program in Business Analytics <br>\n",
    "Athens University of Economics and Business <br>\n",
    "* Instructor: Katia Papakonstantinopoulou <br>\n",
    "* Student: p2822103 / Alamanis Konstantinos\n"
   ]
  },
  {
   "cell_type": "markdown",
   "metadata": {},
   "source": [
    "#### Data extraction and data cleaning"
   ]
  },
  {
   "cell_type": "markdown",
   "metadata": {},
   "source": [
    "* Data was retreived from zipped file through command line and produced 5 csv per desired conference.\n",
    "* Below a snapsot of the method, the same approach followed for each of the 5 conferences."
   ]
  },
  {
   "cell_type": "code",
   "execution_count": 96,
   "metadata": {
    "vscode": {
     "languageId": "r"
    }
   },
   "outputs": [
    {
     "data": {
      "image/png": "[encoded data removed]"
     },
     "metadata": {},
     "output_type": "display_data"
    }
   ],
   "source": [
    "library(\"IRdisplay\")\n",
    "display_png(file=\"Screenshot 2022-07-06 174016.png\")"
   ]
  },
  {
   "cell_type": "markdown",
   "metadata": {
    "vscode": {
     "languageId": "r"
    }
   },
   "source": [
    "* Packages used:"
   ]
  },
  {
   "cell_type": "code",
   "execution_count": 97,
   "metadata": {
    "vscode": {
     "languageId": "r"
    }
   },
   "outputs": [
    {
     "name": "stdout",
     "output_type": "stream",
     "text": [
      "\n",
      "  There is a binary version available but the source version is later:\n",
      "       binary source needs_compilation\n",
      "igraph  1.2.6  1.3.2              TRUE\n",
      "\n",
      "  Binaries will be installed\n"
     ]
    },
    {
     "name": "stderr",
     "output_type": "stream",
     "text": [
      "Warning message:\n",
      "\"package 'igraph' is in use and will not be installed\"\n"
     ]
    }
   ],
   "source": [
    "install.packages('igraph')\n",
    "library('igraph')\n",
    "library('data.table')\n",
    "library('dplyr')\n",
    "library('stringr')\n",
    "#install.packages('splitstackshape')\n",
    "library('splitstackshape')"
   ]
  },
  {
   "cell_type": "markdown",
   "metadata": {},
   "source": [
    "* Reading the data from the created csv files."
   ]
  },
  {
   "cell_type": "code",
   "execution_count": 98,
   "metadata": {
    "vscode": {
     "languageId": "r"
    }
   },
   "outputs": [
    {
     "name": "stderr",
     "output_type": "stream",
     "text": [
      "Warning message in fread(\"cmd_cleaning/papers_CIKM.csv\", header = FALSE):\n",
      "\"Found and resolved improper quoting out-of-sample. First healed line 105: <<2011,\"Examining the \"leftness\" property of Wikipedia categories.\",CIKM,\"Karl Gyllstrom,Marie-Francine Moens\">>. If the fields are not quoted (e.g. field separator does not appear within any field), try quote=\"\" to avoid this warning.\"\n",
      "Warning message in fread(\"cmd_cleaning/papers_KKD.csv\", header = FALSE):\n",
      "\"Found and resolved improper quoting out-of-sample. First healed line 711: <<2001,\"The \"DGX\" distribution for mining massive, skewed data.\",KDD,\"Zhiqiang Bi,Christos Faloutsos,Flip Korn\">>. If the fields are not quoted (e.g. field separator does not appear within any field), try quote=\"\" to avoid this warning.\"\n",
      "Warning message in fread(\"cmd_cleaning/papers_ICWSM.csv\", header = FALSE):\n",
      "\"Found and resolved improper quoting in first 100 rows. If the fields are not quoted (e.g. field separator does not appear within any field), try quote=\"\" to avoid this warning.\"\n",
      "Warning message in fread(\"cmd_cleaning/papers_WWW.csv\", header = FALSE):\n",
      "\"Found and resolved improper quoting out-of-sample. First healed line 182: <<2015,\"From \"Selena Gomez\" to \"Marlon Brando\": Understanding Explorative Entity Search.\",WWW,\"Iris Miliaraki,Roi Blanco,Mounia Lalmas\">>. If the fields are not quoted (e.g. field separator does not appear within any field), try quote=\"\" to avoid this warning.\"\n",
      "Warning message in fread(\"cmd_cleaning/papers_IEEE.csv\", header = FALSE):\n",
      "\"Found and resolved improper quoting out-of-sample. First healed line 243: <<2015,\"A \"smart component\" data model in PLM.\",IEEE BigData,\"Yunpeng Li,Utpal Roy,Seung-Jun Shin,Y. Tina Lee\">>. If the fields are not quoted (e.g. field separator does not appear within any field), try quote=\"\" to avoid this warning.\"\n"
     ]
    },
    {
     "data": {
      "text/html": [
       "<table>\n",
       "<thead><tr><th scope=col>year</th><th scope=col>paper</th><th scope=col>conference</th><th scope=col>authors</th></tr></thead>\n",
       "<tbody>\n",
       "\t<tr><td>2017                                                                                                       </td><td>Public Transportation Mode Detection from Cellular Data.                                                   </td><td>CIKM                                                                                                       </td><td>Guanyao Li,Chun-Jie Chen,Sheng-Yun Huang,Ai-Jou Chou,Xiaochuan Gou,Wen-Chih Peng,Chih-Wei Yi               </td></tr>\n",
       "\t<tr><td>2019                                                                                                       </td><td>DSANet: Dual Self-Attention Network for Multivariate Time Series Forecasting.                              </td><td>CIKM                                                                                                       </td><td>Siteng Huang,Donglin Wang,Xuehan Wu,Ao Tang                                                                </td></tr>\n",
       "\t<tr><td>2020                                                                                                       </td><td>Multi-task Adversarial Spatial-Temporal Networks for Crowd Flow Prediction.                                </td><td>CIKM                                                                                                       </td><td>Senzhang Wang,Hao Miao,Hao Chen,Zhiqiu Huang                                                               </td></tr>\n",
       "\t<tr><td>2020                                                                                                       </td><td>A Framework for Analyzing the Impact of Missing Data in Predictive Models.                                 </td><td>CIKM                                                                                                       </td><td>Fabiola Santore,Eduardo Cunha de Almeida,Wagner Hugo Bonat,Eduardo H. M. Pena,Luiz Eduardo S. de Oliveira  </td></tr>\n",
       "\t<tr><td>2020                                                                                                       </td><td>Auxiliary-task Based Deep Reinforcement Learning for Participant Selection Problem in Mobile Crowdsourcing.</td><td>CIKM                                                                                                       </td><td>Wei Shen 0005,Xiaonan He,Chuheng Zhang,Qiang Ni,Wanchun Dou,Yan Wang                                       </td></tr>\n",
       "\t<tr><td>2016                                                                                                       </td><td>Separating-Plane Factorization Models: Scalable Recommendation from One-Class Implicit Feedback.           </td><td>CIKM                                                                                                       </td><td>Haolan Chen,Di Niu,Kunfeng Lai,Yu Xu,Masoud Ardakani                                                       </td></tr>\n",
       "</tbody>\n",
       "</table>\n"
      ],
      "text/latex": [
       "\\begin{tabular}{r|llll}\n",
       " year & paper & conference & authors\\\\\n",
       "\\hline\n",
       "\t 2017                                                                                                        & Public Transportation Mode Detection from Cellular Data.                                                    & CIKM                                                                                                        & Guanyao Li,Chun-Jie Chen,Sheng-Yun Huang,Ai-Jou Chou,Xiaochuan Gou,Wen-Chih Peng,Chih-Wei Yi               \\\\\n",
       "\t 2019                                                                                                        & DSANet: Dual Self-Attention Network for Multivariate Time Series Forecasting.                               & CIKM                                                                                                        & Siteng Huang,Donglin Wang,Xuehan Wu,Ao Tang                                                                \\\\\n",
       "\t 2020                                                                                                        & Multi-task Adversarial Spatial-Temporal Networks for Crowd Flow Prediction.                                 & CIKM                                                                                                        & Senzhang Wang,Hao Miao,Hao Chen,Zhiqiu Huang                                                               \\\\\n",
       "\t 2020                                                                                                        & A Framework for Analyzing the Impact of Missing Data in Predictive Models.                                  & CIKM                                                                                                        & Fabiola Santore,Eduardo Cunha de Almeida,Wagner Hugo Bonat,Eduardo H. M. Pena,Luiz Eduardo S. de Oliveira  \\\\\n",
       "\t 2020                                                                                                        & Auxiliary-task Based Deep Reinforcement Learning for Participant Selection Problem in Mobile Crowdsourcing. & CIKM                                                                                                        & Wei Shen 0005,Xiaonan He,Chuheng Zhang,Qiang Ni,Wanchun Dou,Yan Wang                                       \\\\\n",
       "\t 2016                                                                                                        & Separating-Plane Factorization Models: Scalable Recommendation from One-Class Implicit Feedback.            & CIKM                                                                                                        & Haolan Chen,Di Niu,Kunfeng Lai,Yu Xu,Masoud Ardakani                                                       \\\\\n",
       "\\end{tabular}\n"
      ],
      "text/markdown": [
       "\n",
       "| year | paper | conference | authors |\n",
       "|---|---|---|---|\n",
       "| 2017                                                                                                        | Public Transportation Mode Detection from Cellular Data.                                                    | CIKM                                                                                                        | Guanyao Li,Chun-Jie Chen,Sheng-Yun Huang,Ai-Jou Chou,Xiaochuan Gou,Wen-Chih Peng,Chih-Wei Yi                |\n",
       "| 2019                                                                                                        | DSANet: Dual Self-Attention Network for Multivariate Time Series Forecasting.                               | CIKM                                                                                                        | Siteng Huang,Donglin Wang,Xuehan Wu,Ao Tang                                                                 |\n",
       "| 2020                                                                                                        | Multi-task Adversarial Spatial-Temporal Networks for Crowd Flow Prediction.                                 | CIKM                                                                                                        | Senzhang Wang,Hao Miao,Hao Chen,Zhiqiu Huang                                                                |\n",
       "| 2020                                                                                                        | A Framework for Analyzing the Impact of Missing Data in Predictive Models.                                  | CIKM                                                                                                        | Fabiola Santore,Eduardo Cunha de Almeida,Wagner Hugo Bonat,Eduardo H. M. Pena,Luiz Eduardo S. de Oliveira   |\n",
       "| 2020                                                                                                        | Auxiliary-task Based Deep Reinforcement Learning for Participant Selection Problem in Mobile Crowdsourcing. | CIKM                                                                                                        | Wei Shen 0005,Xiaonan He,Chuheng Zhang,Qiang Ni,Wanchun Dou,Yan Wang                                        |\n",
       "| 2016                                                                                                        | Separating-Plane Factorization Models: Scalable Recommendation from One-Class Implicit Feedback.            | CIKM                                                                                                        | Haolan Chen,Di Niu,Kunfeng Lai,Yu Xu,Masoud Ardakani                                                        |\n",
       "\n"
      ],
      "text/plain": [
       "  year\n",
       "1 2017\n",
       "2 2019\n",
       "3 2020\n",
       "4 2020\n",
       "5 2020\n",
       "6 2016\n",
       "  paper                                                                                                      \n",
       "1 Public Transportation Mode Detection from Cellular Data.                                                   \n",
       "2 DSANet: Dual Self-Attention Network for Multivariate Time Series Forecasting.                              \n",
       "3 Multi-task Adversarial Spatial-Temporal Networks for Crowd Flow Prediction.                                \n",
       "4 A Framework for Analyzing the Impact of Missing Data in Predictive Models.                                 \n",
       "5 Auxiliary-task Based Deep Reinforcement Learning for Participant Selection Problem in Mobile Crowdsourcing.\n",
       "6 Separating-Plane Factorization Models: Scalable Recommendation from One-Class Implicit Feedback.           \n",
       "  conference\n",
       "1 CIKM      \n",
       "2 CIKM      \n",
       "3 CIKM      \n",
       "4 CIKM      \n",
       "5 CIKM      \n",
       "6 CIKM      \n",
       "  authors                                                                                                  \n",
       "1 Guanyao Li,Chun-Jie Chen,Sheng-Yun Huang,Ai-Jou Chou,Xiaochuan Gou,Wen-Chih Peng,Chih-Wei Yi             \n",
       "2 Siteng Huang,Donglin Wang,Xuehan Wu,Ao Tang                                                              \n",
       "3 Senzhang Wang,Hao Miao,Hao Chen,Zhiqiu Huang                                                             \n",
       "4 Fabiola Santore,Eduardo Cunha de Almeida,Wagner Hugo Bonat,Eduardo H. M. Pena,Luiz Eduardo S. de Oliveira\n",
       "5 Wei Shen 0005,Xiaonan He,Chuheng Zhang,Qiang Ni,Wanchun Dou,Yan Wang                                     \n",
       "6 Haolan Chen,Di Niu,Kunfeng Lai,Yu Xu,Masoud Ardakani                                                     "
      ]
     },
     "metadata": {},
     "output_type": "display_data"
    }
   ],
   "source": [
    "# data load\n",
    "dt_cikm <- fread(\"cmd_cleaning/papers_CIKM.csv\",\n",
    "                    header = FALSE)\n",
    "dt_kdd <- fread(\"cmd_cleaning/papers_KKD.csv\",\n",
    "                    header = FALSE)\n",
    "dt_icwsm <- fread(\"cmd_cleaning/papers_ICWSM.csv\",\n",
    "                    header = FALSE)\n",
    "dt_www <- fread(\"cmd_cleaning/papers_WWW.csv\",\n",
    "                    header = FALSE)\n",
    "dt_ieee <- fread(\"cmd_cleaning/papers_IEEE.csv\",\n",
    "                    header = FALSE)\n",
    "dt_ttl <- do.call(\"rbind\", list(dt_cikm, dt_kdd, dt_icwsm, dt_www, dt_ieee))\n",
    "colnames(dt_ttl) <- c(\"year\", \"paper\", \"conference\", \"authors\")\n",
    "\n",
    "# filtering data based on last 5 years\n",
    "yrs <- (max(dt_ttl$year) - 5)\n",
    "dt_final <- dt_ttl[dt_ttl$year > yrs,]\n",
    "head(dt_final)"
   ]
  },
  {
   "cell_type": "markdown",
   "metadata": {},
   "source": [
    "* The below program takes last column of the above dataset and produce all possible combinations.\n",
    "* Its running time is about 30mins so for the convenience of the reader, the output is loaded after the program. So no need to run the below cell to proceed."
   ]
  },
  {
   "cell_type": "code",
   "execution_count": null,
   "metadata": {
    "vscode": {
     "languageId": "r"
    }
   },
   "outputs": [],
   "source": [
    "# loop to itterate through all combinations\n",
    "authors_final <- data.frame(year = character(), author1 = character(), author2 = character())\n",
    "i <- 1\n",
    "while (i < nrow(dt_authors1)) {\n",
    "    dt_authors1\n",
    "    for (a in seq(ncol(dt_authors1))) {\n",
    "        aa <- dt_authors1[i, ..a]\n",
    "        if (is.na(aa)) {\n",
    "            break\n",
    "        }\n",
    "        for (b in seq(ncol(dt_authors1))) {\n",
    "            bb <- dt_authors1[i, ..b]\n",
    "            if (is.na(bb)) {\n",
    "                break\n",
    "            }\n",
    "            if (a!=b) {\n",
    "                year = dt_authors1[i, \"year\"]\n",
    "                authors_final[nrow(authors_final)+1,] <- c(year,aa,bb)\n",
    "            }\n",
    "        }\n",
    "    }\n",
    "i <- i + 1\n",
    "print(i)\n",
    "}\n"
   ]
  },
  {
   "cell_type": "code",
   "execution_count": 85,
   "metadata": {
    "vscode": {
     "languageId": "r"
    }
   },
   "outputs": [
    {
     "data": {
      "text/html": [
       "<table>\n",
       "<thead><tr><th scope=col>year</th><th scope=col>author1</th><th scope=col>author2</th></tr></thead>\n",
       "<tbody>\n",
       "\t<tr><td>2017           </td><td>Guanyao Li     </td><td>Chun-Jie Chen  </td></tr>\n",
       "\t<tr><td>2017           </td><td>Guanyao Li     </td><td>Sheng-Yun Huang</td></tr>\n",
       "\t<tr><td>2017           </td><td>Guanyao Li     </td><td>Ai-Jou Chou    </td></tr>\n",
       "\t<tr><td>2017           </td><td>Guanyao Li     </td><td>Xiaochuan Gou  </td></tr>\n",
       "\t<tr><td>2017           </td><td>Guanyao Li     </td><td>Wen-Chih Peng  </td></tr>\n",
       "\t<tr><td>2017           </td><td>Guanyao Li     </td><td>Chih-Wei Yi    </td></tr>\n",
       "</tbody>\n",
       "</table>\n"
      ],
      "text/latex": [
       "\\begin{tabular}{r|lll}\n",
       " year & author1 & author2\\\\\n",
       "\\hline\n",
       "\t 2017            & Guanyao Li      & Chun-Jie Chen  \\\\\n",
       "\t 2017            & Guanyao Li      & Sheng-Yun Huang\\\\\n",
       "\t 2017            & Guanyao Li      & Ai-Jou Chou    \\\\\n",
       "\t 2017            & Guanyao Li      & Xiaochuan Gou  \\\\\n",
       "\t 2017            & Guanyao Li      & Wen-Chih Peng  \\\\\n",
       "\t 2017            & Guanyao Li      & Chih-Wei Yi    \\\\\n",
       "\\end{tabular}\n"
      ],
      "text/markdown": [
       "\n",
       "| year | author1 | author2 |\n",
       "|---|---|---|\n",
       "| 2017            | Guanyao Li      | Chun-Jie Chen   |\n",
       "| 2017            | Guanyao Li      | Sheng-Yun Huang |\n",
       "| 2017            | Guanyao Li      | Ai-Jou Chou     |\n",
       "| 2017            | Guanyao Li      | Xiaochuan Gou   |\n",
       "| 2017            | Guanyao Li      | Wen-Chih Peng   |\n",
       "| 2017            | Guanyao Li      | Chih-Wei Yi     |\n",
       "\n"
      ],
      "text/plain": [
       "  year author1    author2        \n",
       "1 2017 Guanyao Li Chun-Jie Chen  \n",
       "2 2017 Guanyao Li Sheng-Yun Huang\n",
       "3 2017 Guanyao Li Ai-Jou Chou    \n",
       "4 2017 Guanyao Li Xiaochuan Gou  \n",
       "5 2017 Guanyao Li Wen-Chih Peng  \n",
       "6 2017 Guanyao Li Chih-Wei Yi    "
      ]
     },
     "metadata": {},
     "output_type": "display_data"
    }
   ],
   "source": [
    "authors_final = read.csv(\"csv/authors_final.csv\")\n",
    "head(authors_final)"
   ]
  },
  {
   "cell_type": "code",
   "execution_count": 86,
   "metadata": {
    "vscode": {
     "languageId": "r"
    }
   },
   "outputs": [],
   "source": [
    "# to exclude unneccassary rows from produced by loop\n",
    "`%!in%` <- Negate(`%in%`)\n",
    "lst <- list(2016, 2017, 2018, 2019, 2020)\n",
    "authors_final1 <- filter(authors_final, author1 %!in% lst)\n",
    "authors_final1 <- filter(authors_final1, author2 %!in% lst)"
   ]
  },
  {
   "cell_type": "markdown",
   "metadata": {},
   "source": [
    "* The below loop creates the 5 csv files for each conference in the appropriate format."
   ]
  },
  {
   "cell_type": "code",
   "execution_count": 87,
   "metadata": {
    "vscode": {
     "languageId": "r"
    }
   },
   "outputs": [],
   "source": [
    "# loop for creating the csv files for each year\n",
    "yrs_to_filter <- list(2016, 2017, 2018, 2019, 2020)\n",
    "for (y in yrs_to_filter) {\n",
    "    df <- authors_final1[authors_final1$year == y, ]\n",
    "    labels <- apply(df[, c(\"author1\", \"author2\")], 1, sort)\n",
    "    df$id <- as.numeric(factor(apply(labels, 2,\n",
    "                        function(x) paste(x, collapse = \"\"))))\n",
    "    final_df <- as.data.frame(table(df$id))\n",
    "    colnames(final_df) <- c(\"id\", \"Frequency\")\n",
    "    final_df$id <- as.numeric(final_df$id)\n",
    "    mapping <- unique(df[, c(2:4)])\n",
    "    mapping$id <- as.numeric(mapping$id)\n",
    "    final_df2 <- left_join(final_df, mapping, by = \"id\")\n",
    "    final_df3 <- final_df2[!duplicated(final_df2$id), ]\n",
    "    final_df3 <- final_df3[,c(3, 4, 2)]\n",
    "    colnames(final_df3) <- c(\"from\", \"to\", \"weight\")\n",
    "    path <- paste(\"csv/authors_\", y, \".csv\", sep = \"\")\n",
    "    write.csv(final_df3, path, row.names = FALSE)\n",
    "}"
   ]
  },
  {
   "cell_type": "markdown",
   "metadata": {},
   "source": [
    "#### 2. Average degree over time"
   ]
  },
  {
   "cell_type": "code",
   "execution_count": 88,
   "metadata": {
    "vscode": {
     "languageId": "r"
    }
   },
   "outputs": [],
   "source": [
    "# reading csv\n",
    "csv16 <- read.csv('csv/authors_2016.csv')\n",
    "csv17 <- read.csv('csv/authors_2017.csv')\n",
    "csv18 <- read.csv('csv/authors_2018.csv')\n",
    "csv19 <- read.csv('csv/authors_2019.csv')\n",
    "csv20 <- read.csv('csv/authors_2020.csv')\n",
    "\n",
    "# graphs creation\n",
    "library(\"igraph\")\n",
    "g16 <- graph_from_data_frame(csv16, directed = FALSE)\n",
    "g17 <- graph_from_data_frame(csv17, directed = FALSE)\n",
    "g18 <- graph_from_data_frame(csv18, directed = FALSE)\n",
    "g19 <- graph_from_data_frame(csv19, directed = FALSE)\n",
    "g20 <- graph_from_data_frame(csv20, directed = FALSE)\n",
    "\n",
    "# number of vertices\n",
    "vrx_16 <- gorder(g16)\n",
    "vrx_17 <- gorder(g17)\n",
    "vrx_18 <- gorder(g18)\n",
    "vrx_19 <- gorder(g19)\n",
    "vrx_20 <- gorder(g20)\n",
    "\n",
    "# number of edges\n",
    "edg_16 <- gsize(g16)\n",
    "edg_17 <- gsize(g17)\n",
    "edg_18 <- gsize(g18)\n",
    "edg_19 <- gsize(g19)\n",
    "edg_20 <- gsize(g20)\n",
    "\n",
    "# diameters of the graphs\n",
    "diam16 <- diameter(g16, directed = FALSE)\n",
    "diam17 <- diameter(g17, directed = FALSE)\n",
    "diam18 <- diameter(g18, directed = FALSE)\n",
    "diam19 <- diameter(g19, directed = FALSE)\n",
    "diam20 <- diameter(g20, directed = FALSE)\n",
    "\n",
    "# average graphs degrees\n",
    "avg_dgr16 <- mean(degree(g16))\n",
    "avg_dgr17 <- mean(degree(g17))\n",
    "avg_dgr18 <- mean(degree(g18))\n",
    "avg_dgr19 <- mean(degree(g19))\n",
    "avg_dgr20 <- mean(degree(g20))\n",
    "\n",
    "# prepare data for visualisation\n",
    "viz_vertices <- cbind(vrx_16, vrx_17, vrx_18, vrx_19, vrx_20)\n",
    "colnames(viz_vertices) <- c(2016, 2017, 2018, 2019, 2020)\n",
    "viz_edges <- cbind(edg_16, edg_17, edg_18, edg_19, edg_20)\n",
    "colnames(viz_edges) <- c(2016, 2017, 2018, 2019, 2020)\n",
    "viz_diam <- cbind(diam16, diam17, diam18, diam19, diam20)\n",
    "colnames(viz_diam) <- c(2016, 2017, 2018, 2019, 2020)\n",
    "viz_degree <- cbind(avg_dgr16, avg_dgr17, avg_dgr18, avg_dgr19, avg_dgr20)\n",
    "colnames(viz_degree) <- c(2016, 2017, 2018, 2019, 2020)"
   ]
  },
  {
   "cell_type": "code",
   "execution_count": 89,
   "metadata": {
    "vscode": {
     "languageId": "r"
    }
   },
   "outputs": [
    {
     "data": {
      "image/png": "[encoded data removed]",
      "text/plain": [
       "Plot with title \"Avg Degree\""
      ]
     },
     "metadata": {
      "image/png": {
       "height": 420,
       "width": 420
      }
     },
     "output_type": "display_data"
    }
   ],
   "source": [
    "# visualizations\n",
    "par(mfrow=c(2,2))\n",
    "par(mar=c(2,2,2,2))\n",
    "barplot(viz_vertices, col = 'slateblue4', main = 'Vertices')\n",
    "barplot(viz_edges, col = 'violetred4', main = \"Edges\")\n",
    "barplot(viz_diam, col = 'springgreen4', main = \"Diameters\")\n",
    "barplot(viz_degree, col = 'steelblue4', main = \"Avg Degree\")"
   ]
  },
  {
   "cell_type": "markdown",
   "metadata": {},
   "source": [
    "#### 3. Important nodes"
   ]
  },
  {
   "cell_type": "code",
   "execution_count": 90,
   "metadata": {
    "vscode": {
     "languageId": "r"
    }
   },
   "outputs": [],
   "source": [
    "# --- DEGREE ---\n",
    "\n",
    "dgr16 <- degree(g16)\n",
    "dgr17 <- degree(g17)\n",
    "dgr18 <- degree(g18)\n",
    "dgr19 <- degree(g19)\n",
    "dgr20 <- degree(g20)\n",
    "\n",
    "dgr16_top10 <- head(sort(dgr16, decreasing = TRUE), 10)\n",
    "dgr17_top10 <- head(sort(dgr17, decreasing = TRUE), 10)\n",
    "dgr18_top10 <- head(sort(dgr18, decreasing = TRUE), 10)\n",
    "dgr19_top10 <- head(sort(dgr19, decreasing = TRUE), 10)\n",
    "dgr20_top10 <- head(sort(dgr20, decreasing = TRUE), 10)\n",
    "\n",
    "# --- PAGE RANK ---\n",
    "\n",
    "pgr16 = page_rank(g16, algo = 'arpack')\n",
    "pgr17 = page_rank(g17, algo = 'arpack')\n",
    "pgr18 = page_rank(g18, algo = 'arpack')\n",
    "pgr19 = page_rank(g19, algo = 'arpack')\n",
    "pgr20 = page_rank(g20, algo = 'arpack')\n",
    "\n",
    "pgr16_top10 = head(sort(pgr16$vector, decreasing = TRUE), 10)\n",
    "pgr17_top10 = head(sort(pgr17$vector, decreasing = TRUE), 10)\n",
    "pgr18_top10 = head(sort(pgr18$vector, decreasing = TRUE), 10)\n",
    "pgr19_top10 = head(sort(pgr19$vector, decreasing = TRUE), 10)\n",
    "pgr20_top10 = head(sort(pgr20$vector, decreasing = TRUE), 10)"
   ]
  },
  {
   "cell_type": "markdown",
   "metadata": {},
   "source": [
    "* Importance based on degree."
   ]
  },
  {
   "cell_type": "code",
   "execution_count": 91,
   "metadata": {
    "vscode": {
     "languageId": "r"
    }
   },
   "outputs": [
    {
     "data": {
      "image/png": "[encoded data removed]",
      "text/plain": [
       "Plot with title \"2020\""
      ]
     },
     "metadata": {
      "image/png": {
       "height": 420,
       "width": 420
      }
     },
     "output_type": "display_data"
    }
   ],
   "source": [
    "# degree\n",
    "par(mfrow=c(3,2))\n",
    "par(mar=c(2,9,2,2))\n",
    "barplot(dgr16_top10, horiz = T, las = 1, main = \"2016\")\n",
    "barplot(dgr17_top10, horiz = T, las = 1, main = \"2017\")\n",
    "barplot(dgr18_top10, horiz = T, las = 1, main = \"2018\")\n",
    "barplot(dgr19_top10, horiz = T, las = 1, main = \"2019\")\n",
    "barplot(dgr20_top10, horiz = T, las = 1, main = \"2020\")"
   ]
  },
  {
   "cell_type": "markdown",
   "metadata": {},
   "source": [
    "* Importance based on PageRank."
   ]
  },
  {
   "cell_type": "code",
   "execution_count": 92,
   "metadata": {
    "vscode": {
     "languageId": "r"
    }
   },
   "outputs": [
    {
     "data": {
      "image/png": "[encoded data removed]",
      "text/plain": [
       "Plot with title \"2020\""
      ]
     },
     "metadata": {
      "image/png": {
       "height": 420,
       "width": 420
      }
     },
     "output_type": "display_data"
    }
   ],
   "source": [
    "# pagerank\n",
    "par(mfrow=c(3,2))\n",
    "par(mar=c(2,9,2,2))\n",
    "barplot(pgr16_top10, horiz = T, las = 1, main = \"2016\")\n",
    "barplot(pgr17_top10, horiz = T, las = 1, main = \"2017\")\n",
    "barplot(pgr18_top10, horiz = T, las = 1, main = \"2018\")\n",
    "barplot(pgr19_top10, horiz = T, las = 1, main = \"2019\")\n",
    "barplot(pgr20_top10, horiz = T, las = 1, main = \"2020\")"
   ]
  },
  {
   "cell_type": "markdown",
   "metadata": {},
   "source": [
    "#### 4. Communities"
   ]
  },
  {
   "cell_type": "markdown",
   "metadata": {},
   "source": [
    "* Fast greedy clustering, infomap clustering, and louvain clustering on the 5 undirected co-authorship graphs."
   ]
  },
  {
   "cell_type": "code",
   "execution_count": 93,
   "metadata": {
    "vscode": {
     "languageId": "r"
    }
   },
   "outputs": [],
   "source": [
    "com_fast_greedy16 <- cluster_fast_greedy(g16) \n",
    "com_infomap16 <- cluster_infomap(g16) \n",
    "com_louvain16 <- cluster_louvain(g16) \n",
    "\n",
    "com_fast_greedy17 <- cluster_fast_greedy(g17)\n",
    "com_infomap17 <- cluster_infomap(g17)\n",
    "com_louvain17 <- cluster_louvain(g17) \n",
    "\n",
    "com_fast_greedy18 <- cluster_fast_greedy(g18) \n",
    "com_infomap18 <- cluster_infomap(g18) \n",
    "com_louvain18 <- cluster_louvain(g18) \n",
    "\n",
    "com_fast_greedy19 <- cluster_fast_greedy(g19) \n",
    "com_infomap19 <- cluster_infomap(g19) \n",
    "com_louvain19 <- cluster_louvain(g19) \n",
    "\n",
    "com_fast_greedy20 <- cluster_fast_greedy(g20) \n",
    "com_infomap20 <- cluster_infomap(g20) \n",
    "com_louvain20 <- cluster_louvain(g20)"
   ]
  },
  {
   "cell_type": "markdown",
   "metadata": {},
   "source": [
    "* Detect the evolution of the communities this user belongs to."
   ]
  },
  {
   "cell_type": "code",
   "execution_count": 94,
   "metadata": {
    "vscode": {
     "languageId": "r"
    }
   },
   "outputs": [
    {
     "data": {
      "text/html": [
       "<ol class=list-inline>\n",
       "\t<li>'Bokai Cao'</li>\n",
       "\t<li>'Xiaokai Wei'</li>\n",
       "\t<li>'Chenwei Zhang'</li>\n",
       "\t<li>'Chun-Ta Lu'</li>\n",
       "\t<li>'Lifang He 0001'</li>\n",
       "\t<li>'Sihong Xie'</li>\n",
       "\t<li>'Weixiang Shao'</li>\n",
       "\t<li>'Jiawei Zhang 0001'</li>\n",
       "\t<li>'Nan Du'</li>\n",
       "\t<li>'Philip S. Yu'</li>\n",
       "</ol>\n"
      ],
      "text/latex": [
       "\\begin{enumerate*}\n",
       "\\item 'Bokai Cao'\n",
       "\\item 'Xiaokai Wei'\n",
       "\\item 'Chenwei Zhang'\n",
       "\\item 'Chun-Ta Lu'\n",
       "\\item 'Lifang He 0001'\n",
       "\\item 'Sihong Xie'\n",
       "\\item 'Weixiang Shao'\n",
       "\\item 'Jiawei Zhang 0001'\n",
       "\\item 'Nan Du'\n",
       "\\item 'Philip S. Yu'\n",
       "\\end{enumerate*}\n"
      ],
      "text/markdown": [
       "1. 'Bokai Cao'\n",
       "2. 'Xiaokai Wei'\n",
       "3. 'Chenwei Zhang'\n",
       "4. 'Chun-Ta Lu'\n",
       "5. 'Lifang He 0001'\n",
       "6. 'Sihong Xie'\n",
       "7. 'Weixiang Shao'\n",
       "8. 'Jiawei Zhang 0001'\n",
       "9. 'Nan Du'\n",
       "10. 'Philip S. Yu'\n",
       "\n",
       "\n"
      ],
      "text/plain": [
       " [1] \"Bokai Cao\"         \"Xiaokai Wei\"       \"Chenwei Zhang\"    \n",
       " [4] \"Chun-Ta Lu\"        \"Lifang He 0001\"    \"Sihong Xie\"       \n",
       " [7] \"Weixiang Shao\"     \"Jiawei Zhang 0001\" \"Nan Du\"           \n",
       "[10] \"Philip S. Yu\"     "
      ]
     },
     "metadata": {},
     "output_type": "display_data"
    },
    {
     "data": {
      "text/html": [
       "<ol class=list-inline>\n",
       "\t<li>'Xiaokai Wei'</li>\n",
       "\t<li>'Chun-Ta Lu'</li>\n",
       "\t<li>'Jiawei Zhang 0001'</li>\n",
       "\t<li>'Hu Xu'</li>\n",
       "\t<li>'Lei Shu 0004'</li>\n",
       "\t<li>'Philip S. Yu'</li>\n",
       "</ol>\n"
      ],
      "text/latex": [
       "\\begin{enumerate*}\n",
       "\\item 'Xiaokai Wei'\n",
       "\\item 'Chun-Ta Lu'\n",
       "\\item 'Jiawei Zhang 0001'\n",
       "\\item 'Hu Xu'\n",
       "\\item 'Lei Shu 0004'\n",
       "\\item 'Philip S. Yu'\n",
       "\\end{enumerate*}\n"
      ],
      "text/markdown": [
       "1. 'Xiaokai Wei'\n",
       "2. 'Chun-Ta Lu'\n",
       "3. 'Jiawei Zhang 0001'\n",
       "4. 'Hu Xu'\n",
       "5. 'Lei Shu 0004'\n",
       "6. 'Philip S. Yu'\n",
       "\n",
       "\n"
      ],
      "text/plain": [
       "[1] \"Xiaokai Wei\"       \"Chun-Ta Lu\"        \"Jiawei Zhang 0001\"\n",
       "[4] \"Hu Xu\"             \"Lei Shu 0004\"      \"Philip S. Yu\"     "
      ]
     },
     "metadata": {},
     "output_type": "display_data"
    },
    {
     "data": {
      "text/html": [
       "<ol class=list-inline>\n",
       "\t<li>'Lifang He 0001'</li>\n",
       "\t<li>'Sihong Xie'</li>\n",
       "\t<li>'Philip S. Yu'</li>\n",
       "</ol>\n"
      ],
      "text/latex": [
       "\\begin{enumerate*}\n",
       "\\item 'Lifang He 0001'\n",
       "\\item 'Sihong Xie'\n",
       "\\item 'Philip S. Yu'\n",
       "\\end{enumerate*}\n"
      ],
      "text/markdown": [
       "1. 'Lifang He 0001'\n",
       "2. 'Sihong Xie'\n",
       "3. 'Philip S. Yu'\n",
       "\n",
       "\n"
      ],
      "text/plain": [
       "[1] \"Lifang He 0001\" \"Sihong Xie\"     \"Philip S. Yu\"  "
      ]
     },
     "metadata": {},
     "output_type": "display_data"
    }
   ],
   "source": [
    "v1 = membership(com_fast_greedy16)['Philip S. Yu']\n",
    "v2 = membership(com_fast_greedy17)['Philip S. Yu']\n",
    "v3 = membership(com_fast_greedy18)['Philip S. Yu']\n",
    "v4 = membership(com_fast_greedy19)['Philip S. Yu']\n",
    "v5 = membership(com_fast_greedy20)['Philip S. Yu']\n",
    "\n",
    "int1 = intersect(com_fast_greedy16[v1]$'4', com_fast_greedy17[v2]$'4')\n",
    "int2 = intersect(com_fast_greedy16[v1]$'4', com_fast_greedy18[v3]$'4')\n",
    "int3 = intersect(com_fast_greedy16[v1]$'4', com_fast_greedy19[v4]$'1')\n",
    "int4 = intersect(com_fast_greedy16[v1]$'4', com_fast_greedy20[v5]$'202')\n",
    "\n",
    "intersect(int1, int2)\n",
    "intersect(int1, int3)\n",
    "intersect(int1, int4)"
   ]
  },
  {
   "cell_type": "markdown",
   "metadata": {},
   "source": [
    "* Visualization"
   ]
  },
  {
   "cell_type": "code",
   "execution_count": 95,
   "metadata": {
    "vscode": {
     "languageId": "r"
    }
   },
   "outputs": [
    {
     "data": {
      "image/png": "[encoded data removed]",
      "text/plain": [
       "Plot with title \"\""
      ]
     },
     "metadata": {
      "image/png": {
       "height": 420,
       "width": 420
      }
     },
     "output_type": "display_data"
    }
   ],
   "source": [
    "V(g20)$color <- factor(membership(com_louvain20)) \n",
    "cross <- crossing(g20, communities = com_louvain20)\n",
    "E(g20)$lty <- ifelse(cross, \"solid\", \"dotted\") \n",
    "comm_size <- sizes(com_louvain20)\n",
    "mid_comm <- unlist(com_louvain20[comm_size > 40 & comm_size < 80]) \n",
    "subgr <- induced.subgraph(g20, mid_comm) \n",
    "plot(subgr, vertex.label = NA, edge.arrow.width = 0.9, \n",
    "     edge.arrow.size = 0.4, coords = layout_with_fr(subgr), \n",
    "     margin = 0.1, vertex.size = 5)"
   ]
  }
 ],
 "metadata": {
  "kernelspec": {
   "display_name": "R",
   "language": "R",
   "name": "ir"
  },
  "language_info": {
   "codemirror_mode": "r",
   "file_extension": ".r",
   "mimetype": "text/x-r-source",
   "name": "R",
   "pygments_lexer": "r",
   "version": "3.6.1"
  },
  "orig_nbformat": 4,
  "vscode": {
   "interpreter": {
    "hash": "c6fbfe1cc0f2d3ca02a185e6111bc80efb5ec2acf37b5c80bbc28d7908f2a194"
   }
  }
 },
 "nbformat": 4,
 "nbformat_minor": 2
}
