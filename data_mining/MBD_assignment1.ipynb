{
 "cells": [
  {
   "cell_type": "markdown",
   "metadata": {},
   "source": [
    "# Data Mining - Assignment 1\n",
    "\n",
    "---\n",
    "> Konstantinos Alamanis, MSc in Business Analytics PT 2021-2022 <br />\n",
    "> Department of Management Science and Technology <br />\n",
    "> Athens University of Economics and Business <br />\n",
    "> p2822103@aueb.gr"
   ]
  },
  {
   "cell_type": "code",
   "execution_count": 1,
   "metadata": {},
   "outputs": [],
   "source": [
    "# importing relevant packages\n",
    "import pandas as pd\n",
    "import numpy as np\n",
    "from tqdm import tqdm\n",
    "from sklearn.metrics import mean_absolute_error"
   ]
  },
  {
   "cell_type": "markdown",
   "metadata": {},
   "source": [
    "## 1. Data Cleaning & Exploration"
   ]
  },
  {
   "cell_type": "code",
   "execution_count": 2,
   "metadata": {},
   "outputs": [
    {
     "data": {
      "text/html": [
       "<div>\n",
       "<style scoped>\n",
       "    .dataframe tbody tr th:only-of-type {\n",
       "        vertical-align: middle;\n",
       "    }\n",
       "\n",
       "    .dataframe tbody tr th {\n",
       "        vertical-align: top;\n",
       "    }\n",
       "\n",
       "    .dataframe thead th {\n",
       "        text-align: right;\n",
       "    }\n",
       "</style>\n",
       "<table border=\"1\" class=\"dataframe\">\n",
       "  <thead>\n",
       "    <tr style=\"text-align: right;\">\n",
       "      <th></th>\n",
       "      <th>Age</th>\n",
       "      <th>Job</th>\n",
       "      <th>Marital</th>\n",
       "      <th>Education</th>\n",
       "      <th>Default</th>\n",
       "      <th>Balance</th>\n",
       "      <th>Housing</th>\n",
       "      <th>Loan</th>\n",
       "      <th>Rating</th>\n",
       "      <th>Products</th>\n",
       "    </tr>\n",
       "  </thead>\n",
       "  <tbody>\n",
       "    <tr>\n",
       "      <th>0</th>\n",
       "      <td>33.0</td>\n",
       "      <td>entrepreneur</td>\n",
       "      <td>married</td>\n",
       "      <td>secondary</td>\n",
       "      <td>no</td>\n",
       "      <td>2</td>\n",
       "      <td>yes</td>\n",
       "      <td>yes</td>\n",
       "      <td>poor</td>\n",
       "      <td>1,3,16,17,19</td>\n",
       "    </tr>\n",
       "    <tr>\n",
       "      <th>1</th>\n",
       "      <td>35.0</td>\n",
       "      <td>management</td>\n",
       "      <td>married</td>\n",
       "      <td>tertiary</td>\n",
       "      <td>no</td>\n",
       "      <td>231</td>\n",
       "      <td>yes</td>\n",
       "      <td>no</td>\n",
       "      <td>good</td>\n",
       "      <td>4,8,16</td>\n",
       "    </tr>\n",
       "    <tr>\n",
       "      <th>2</th>\n",
       "      <td>NaN</td>\n",
       "      <td>management</td>\n",
       "      <td>single</td>\n",
       "      <td>tertiary</td>\n",
       "      <td>no</td>\n",
       "      <td>447</td>\n",
       "      <td>yes</td>\n",
       "      <td>yes</td>\n",
       "      <td>fair</td>\n",
       "      <td>7,16</td>\n",
       "    </tr>\n",
       "    <tr>\n",
       "      <th>3</th>\n",
       "      <td>42.0</td>\n",
       "      <td>entrepreneur</td>\n",
       "      <td>divorced</td>\n",
       "      <td>tertiary</td>\n",
       "      <td>yes</td>\n",
       "      <td>2</td>\n",
       "      <td>yes</td>\n",
       "      <td>no</td>\n",
       "      <td>fair</td>\n",
       "      <td>1,3,8,10,11,12,18,19</td>\n",
       "    </tr>\n",
       "    <tr>\n",
       "      <th>4</th>\n",
       "      <td>58.0</td>\n",
       "      <td>retired</td>\n",
       "      <td>married</td>\n",
       "      <td>primary</td>\n",
       "      <td>no</td>\n",
       "      <td>121</td>\n",
       "      <td>yes</td>\n",
       "      <td>no</td>\n",
       "      <td>good</td>\n",
       "      <td>4,5,6,7,11,18,19</td>\n",
       "    </tr>\n",
       "    <tr>\n",
       "      <th>5</th>\n",
       "      <td>43.0</td>\n",
       "      <td>technician</td>\n",
       "      <td>single</td>\n",
       "      <td>secondary</td>\n",
       "      <td>no</td>\n",
       "      <td>593</td>\n",
       "      <td>yes</td>\n",
       "      <td>no</td>\n",
       "      <td>good</td>\n",
       "      <td>1,5,7,8,11,16,17,19,20</td>\n",
       "    </tr>\n",
       "    <tr>\n",
       "      <th>6</th>\n",
       "      <td>41.0</td>\n",
       "      <td>admin.</td>\n",
       "      <td>divorced</td>\n",
       "      <td>secondary</td>\n",
       "      <td>no</td>\n",
       "      <td>270</td>\n",
       "      <td>yes</td>\n",
       "      <td>no</td>\n",
       "      <td>good</td>\n",
       "      <td>2,3,4,5,9,10,11,12,14,17</td>\n",
       "    </tr>\n",
       "    <tr>\n",
       "      <th>7</th>\n",
       "      <td>29.0</td>\n",
       "      <td>admin.</td>\n",
       "      <td>single</td>\n",
       "      <td>secondary</td>\n",
       "      <td>no</td>\n",
       "      <td>390</td>\n",
       "      <td>yes</td>\n",
       "      <td>no</td>\n",
       "      <td>good</td>\n",
       "      <td>17</td>\n",
       "    </tr>\n",
       "    <tr>\n",
       "      <th>8</th>\n",
       "      <td>53.0</td>\n",
       "      <td>technician</td>\n",
       "      <td>married</td>\n",
       "      <td>secondary</td>\n",
       "      <td>no</td>\n",
       "      <td>6</td>\n",
       "      <td>yes</td>\n",
       "      <td>no</td>\n",
       "      <td>good</td>\n",
       "      <td>8,13,14,16,17,18,19,20</td>\n",
       "    </tr>\n",
       "    <tr>\n",
       "      <th>9</th>\n",
       "      <td>NaN</td>\n",
       "      <td>services</td>\n",
       "      <td>married</td>\n",
       "      <td>secondary</td>\n",
       "      <td>no</td>\n",
       "      <td>162</td>\n",
       "      <td>yes</td>\n",
       "      <td>no</td>\n",
       "      <td>good</td>\n",
       "      <td>3</td>\n",
       "    </tr>\n",
       "  </tbody>\n",
       "</table>\n",
       "</div>"
      ],
      "text/plain": [
       "    Age           Job   Marital  Education Default  Balance Housing Loan  \\\n",
       "0  33.0  entrepreneur   married  secondary      no        2     yes  yes   \n",
       "1  35.0    management   married   tertiary      no      231     yes   no   \n",
       "2   NaN    management    single   tertiary      no      447     yes  yes   \n",
       "3  42.0  entrepreneur  divorced   tertiary     yes        2     yes   no   \n",
       "4  58.0       retired   married    primary      no      121     yes   no   \n",
       "5  43.0    technician    single  secondary      no      593     yes   no   \n",
       "6  41.0        admin.  divorced  secondary      no      270     yes   no   \n",
       "7  29.0        admin.    single  secondary      no      390     yes   no   \n",
       "8  53.0    technician   married  secondary      no        6     yes   no   \n",
       "9   NaN      services   married  secondary      no      162     yes   no   \n",
       "\n",
       "  Rating                  Products  \n",
       "0   poor              1,3,16,17,19  \n",
       "1   good                    4,8,16  \n",
       "2   fair                      7,16  \n",
       "3   fair      1,3,8,10,11,12,18,19  \n",
       "4   good          4,5,6,7,11,18,19  \n",
       "5   good    1,5,7,8,11,16,17,19,20  \n",
       "6   good  2,3,4,5,9,10,11,12,14,17  \n",
       "7   good                        17  \n",
       "8   good    8,13,14,16,17,18,19,20  \n",
       "9   good                         3  "
      ]
     },
     "execution_count": 2,
     "metadata": {},
     "output_type": "execute_result"
    }
   ],
   "source": [
    "# reading the data\n",
    "data = pd.read_csv(\"./bank.csv\", delimiter='\\;', engine='python')\n",
    "data.head(10)"
   ]
  },
  {
   "cell_type": "code",
   "execution_count": 3,
   "metadata": {},
   "outputs": [
    {
     "data": {
      "text/plain": [
       "Job\n",
       "admin.           39.0\n",
       "blue-collar      40.0\n",
       "entrepreneur     42.0\n",
       "housemaid        46.0\n",
       "management       40.0\n",
       "retired          62.0\n",
       "self-employed    40.0\n",
       "services         39.0\n",
       "student          26.0\n",
       "technician       39.0\n",
       "unemployed       41.0\n",
       "Name: Age, dtype: float64"
      ]
     },
     "execution_count": 3,
     "metadata": {},
     "output_type": "execute_result"
    }
   ],
   "source": [
    "# calculating means to fill missing age data\n",
    "job_means = round(data.groupby('Job')['Age'].mean(),0)\n",
    "job_means"
   ]
  },
  {
   "cell_type": "code",
   "execution_count": 4,
   "metadata": {},
   "outputs": [
    {
     "data": {
      "text/html": [
       "<div>\n",
       "<style scoped>\n",
       "    .dataframe tbody tr th:only-of-type {\n",
       "        vertical-align: middle;\n",
       "    }\n",
       "\n",
       "    .dataframe tbody tr th {\n",
       "        vertical-align: top;\n",
       "    }\n",
       "\n",
       "    .dataframe thead th {\n",
       "        text-align: right;\n",
       "    }\n",
       "</style>\n",
       "<table border=\"1\" class=\"dataframe\">\n",
       "  <thead>\n",
       "    <tr style=\"text-align: right;\">\n",
       "      <th></th>\n",
       "      <th>Job</th>\n",
       "      <th>Age</th>\n",
       "      <th>Marital</th>\n",
       "      <th>Education</th>\n",
       "      <th>Default</th>\n",
       "      <th>Balance</th>\n",
       "      <th>Housing</th>\n",
       "      <th>Loan</th>\n",
       "      <th>Rating</th>\n",
       "      <th>Products</th>\n",
       "    </tr>\n",
       "  </thead>\n",
       "  <tbody>\n",
       "    <tr>\n",
       "      <th>0</th>\n",
       "      <td>entrepreneur</td>\n",
       "      <td>33.0</td>\n",
       "      <td>married</td>\n",
       "      <td>secondary</td>\n",
       "      <td>no</td>\n",
       "      <td>2</td>\n",
       "      <td>yes</td>\n",
       "      <td>yes</td>\n",
       "      <td>poor</td>\n",
       "      <td>1,3,16,17,19</td>\n",
       "    </tr>\n",
       "    <tr>\n",
       "      <th>1</th>\n",
       "      <td>management</td>\n",
       "      <td>35.0</td>\n",
       "      <td>married</td>\n",
       "      <td>tertiary</td>\n",
       "      <td>no</td>\n",
       "      <td>231</td>\n",
       "      <td>yes</td>\n",
       "      <td>no</td>\n",
       "      <td>good</td>\n",
       "      <td>4,8,16</td>\n",
       "    </tr>\n",
       "    <tr>\n",
       "      <th>2</th>\n",
       "      <td>management</td>\n",
       "      <td>40.0</td>\n",
       "      <td>single</td>\n",
       "      <td>tertiary</td>\n",
       "      <td>no</td>\n",
       "      <td>447</td>\n",
       "      <td>yes</td>\n",
       "      <td>yes</td>\n",
       "      <td>fair</td>\n",
       "      <td>7,16</td>\n",
       "    </tr>\n",
       "    <tr>\n",
       "      <th>3</th>\n",
       "      <td>entrepreneur</td>\n",
       "      <td>42.0</td>\n",
       "      <td>divorced</td>\n",
       "      <td>tertiary</td>\n",
       "      <td>yes</td>\n",
       "      <td>2</td>\n",
       "      <td>yes</td>\n",
       "      <td>no</td>\n",
       "      <td>fair</td>\n",
       "      <td>1,3,8,10,11,12,18,19</td>\n",
       "    </tr>\n",
       "    <tr>\n",
       "      <th>4</th>\n",
       "      <td>retired</td>\n",
       "      <td>58.0</td>\n",
       "      <td>married</td>\n",
       "      <td>primary</td>\n",
       "      <td>no</td>\n",
       "      <td>121</td>\n",
       "      <td>yes</td>\n",
       "      <td>no</td>\n",
       "      <td>good</td>\n",
       "      <td>4,5,6,7,11,18,19</td>\n",
       "    </tr>\n",
       "    <tr>\n",
       "      <th>5</th>\n",
       "      <td>technician</td>\n",
       "      <td>43.0</td>\n",
       "      <td>single</td>\n",
       "      <td>secondary</td>\n",
       "      <td>no</td>\n",
       "      <td>593</td>\n",
       "      <td>yes</td>\n",
       "      <td>no</td>\n",
       "      <td>good</td>\n",
       "      <td>1,5,7,8,11,16,17,19,20</td>\n",
       "    </tr>\n",
       "    <tr>\n",
       "      <th>6</th>\n",
       "      <td>admin.</td>\n",
       "      <td>41.0</td>\n",
       "      <td>divorced</td>\n",
       "      <td>secondary</td>\n",
       "      <td>no</td>\n",
       "      <td>270</td>\n",
       "      <td>yes</td>\n",
       "      <td>no</td>\n",
       "      <td>good</td>\n",
       "      <td>2,3,4,5,9,10,11,12,14,17</td>\n",
       "    </tr>\n",
       "    <tr>\n",
       "      <th>7</th>\n",
       "      <td>admin.</td>\n",
       "      <td>29.0</td>\n",
       "      <td>single</td>\n",
       "      <td>secondary</td>\n",
       "      <td>no</td>\n",
       "      <td>390</td>\n",
       "      <td>yes</td>\n",
       "      <td>no</td>\n",
       "      <td>good</td>\n",
       "      <td>17</td>\n",
       "    </tr>\n",
       "    <tr>\n",
       "      <th>8</th>\n",
       "      <td>technician</td>\n",
       "      <td>53.0</td>\n",
       "      <td>married</td>\n",
       "      <td>secondary</td>\n",
       "      <td>no</td>\n",
       "      <td>6</td>\n",
       "      <td>yes</td>\n",
       "      <td>no</td>\n",
       "      <td>good</td>\n",
       "      <td>8,13,14,16,17,18,19,20</td>\n",
       "    </tr>\n",
       "    <tr>\n",
       "      <th>9</th>\n",
       "      <td>services</td>\n",
       "      <td>39.0</td>\n",
       "      <td>married</td>\n",
       "      <td>secondary</td>\n",
       "      <td>no</td>\n",
       "      <td>162</td>\n",
       "      <td>yes</td>\n",
       "      <td>no</td>\n",
       "      <td>good</td>\n",
       "      <td>3</td>\n",
       "    </tr>\n",
       "  </tbody>\n",
       "</table>\n",
       "</div>"
      ],
      "text/plain": [
       "            Job   Age   Marital  Education Default  Balance Housing Loan  \\\n",
       "0  entrepreneur  33.0   married  secondary      no        2     yes  yes   \n",
       "1    management  35.0   married   tertiary      no      231     yes   no   \n",
       "2    management  40.0    single   tertiary      no      447     yes  yes   \n",
       "3  entrepreneur  42.0  divorced   tertiary     yes        2     yes   no   \n",
       "4       retired  58.0   married    primary      no      121     yes   no   \n",
       "5    technician  43.0    single  secondary      no      593     yes   no   \n",
       "6        admin.  41.0  divorced  secondary      no      270     yes   no   \n",
       "7        admin.  29.0    single  secondary      no      390     yes   no   \n",
       "8    technician  53.0   married  secondary      no        6     yes   no   \n",
       "9      services  39.0   married  secondary      no      162     yes   no   \n",
       "\n",
       "  Rating                  Products  \n",
       "0   poor              1,3,16,17,19  \n",
       "1   good                    4,8,16  \n",
       "2   fair                      7,16  \n",
       "3   fair      1,3,8,10,11,12,18,19  \n",
       "4   good          4,5,6,7,11,18,19  \n",
       "5   good    1,5,7,8,11,16,17,19,20  \n",
       "6   good  2,3,4,5,9,10,11,12,14,17  \n",
       "7   good                        17  \n",
       "8   good    8,13,14,16,17,18,19,20  \n",
       "9   good                         3  "
      ]
     },
     "execution_count": 4,
     "metadata": {},
     "output_type": "execute_result"
    }
   ],
   "source": [
    "# filling the null values in age columns\n",
    "data.set_index('Job',inplace=True)\n",
    "data_cl = data.copy()\n",
    "data_cl['Age'] = data['Age'].fillna(job_means, axis='index')\n",
    "data_cl.reset_index(inplace=True)\n",
    "data_cl.head(10)"
   ]
  },
  {
   "cell_type": "markdown",
   "metadata": {},
   "source": [
    "## 2. Compute data (dis-)similarity"
   ]
  },
  {
   "cell_type": "markdown",
   "metadata": {},
   "source": [
    "* A set of functions would be created in order to be used recurrently in the rest notebook.\n",
    "* We have created almost one function per attribute."
   ]
  },
  {
   "cell_type": "markdown",
   "metadata": {},
   "source": [
    "### Ordinal Dissimilarities"
   ]
  },
  {
   "cell_type": "markdown",
   "metadata": {},
   "source": [
    "* Depicting the ordinality range with numbers."
   ]
  },
  {
   "cell_type": "code",
   "execution_count": 6,
   "metadata": {},
   "outputs": [
    {
     "data": {
      "text/plain": [
       "3    20756\n",
       "4    13889\n",
       "2     7045\n",
       "1     1066\n",
       "5      435\n",
       "Name: RatingRank, dtype: int64"
      ]
     },
     "execution_count": 6,
     "metadata": {},
     "output_type": "execute_result"
    }
   ],
   "source": [
    "data_cl['RatingRank'] = data_cl['Rating'].replace({\"poor\":1, \"fair\":2, \"good\":3 ,\"very_good\" :4, \"excelent\":5})\n",
    "data_cl['RatingRank'].value_counts()"
   ]
  },
  {
   "cell_type": "code",
   "execution_count": 7,
   "metadata": {},
   "outputs": [
    {
     "data": {
      "text/plain": [
       "2    23130\n",
       "3    13261\n",
       "1     6800\n",
       "Name: EduRank, dtype: int64"
      ]
     },
     "execution_count": 7,
     "metadata": {},
     "output_type": "execute_result"
    }
   ],
   "source": [
    "data_cl['EduRank'] = data_cl['Education'].replace({\"primary\":1, \"secondary\":2, \"tertiary\":3})\n",
    "data_cl['EduRank'].value_counts()"
   ]
  },
  {
   "cell_type": "code",
   "execution_count": 8,
   "metadata": {},
   "outputs": [],
   "source": [
    "# function created for rating dissimilarities\n",
    "def rating_dissimilarities(table_cl,i,y):\n",
    "    dis = abs( (table_cl[i] - table_cl[y])  / 4 )\n",
    "    return dis"
   ]
  },
  {
   "cell_type": "code",
   "execution_count": 13,
   "metadata": {},
   "outputs": [
    {
     "data": {
      "text/plain": [
       "0.5"
      ]
     },
     "execution_count": 13,
     "metadata": {},
     "output_type": "execute_result"
    }
   ],
   "source": [
    "# testing function \n",
    "rating_dis = rating_dissimilarities(data_cl['RatingRank'], 0, 1000)\n",
    "rating_dis"
   ]
  },
  {
   "cell_type": "code",
   "execution_count": 10,
   "metadata": {},
   "outputs": [],
   "source": [
    "# function created for education dissimilarities\n",
    "def education_dissimilarities(table_cl,i,y):\n",
    "    dis = abs( (table_cl[i] - table_cl[y])  / 2 )\n",
    "    return dis"
   ]
  },
  {
   "cell_type": "code",
   "execution_count": 12,
   "metadata": {},
   "outputs": [
    {
     "data": {
      "text/plain": [
       "0.5"
      ]
     },
     "execution_count": 12,
     "metadata": {},
     "output_type": "execute_result"
    }
   ],
   "source": [
    "# testing function\n",
    "education_dis = education_dissimilarities(data_cl['EduRank'], 10, 65)\n",
    "education_dis"
   ]
  },
  {
   "cell_type": "markdown",
   "metadata": {},
   "source": [
    "### Nominal Dissimilarities"
   ]
  },
  {
   "cell_type": "code",
   "execution_count": 29,
   "metadata": {},
   "outputs": [],
   "source": [
    "# function created for nominal dissimilarities\n",
    "def nominal_dissimilarities(table_cl,i,y):\n",
    "    if table_cl[i]==table_cl[y]:\n",
    "        dis = 0\n",
    "    else:\n",
    "        dis = 1\n",
    "    return dis"
   ]
  },
  {
   "cell_type": "markdown",
   "metadata": {},
   "source": [
    "### Numerical Dissimilarities"
   ]
  },
  {
   "cell_type": "code",
   "execution_count": 26,
   "metadata": {},
   "outputs": [],
   "source": [
    "# function created for balance dissimilarity\n",
    "def balance_dissimilarities(table_cl,i,y):\n",
    "    val = abs( table_cl[i] - table_cl[y] ) / ( 102127 - (-8019) )\n",
    "    return round(val,5)"
   ]
  },
  {
   "cell_type": "code",
   "execution_count": 27,
   "metadata": {},
   "outputs": [
    {
     "data": {
      "text/plain": [
       "0.00033"
      ]
     },
     "execution_count": 27,
     "metadata": {},
     "output_type": "execute_result"
    }
   ],
   "source": [
    "# testing function\n",
    "balance_dissimilarities(data_cl['Balance'],100,3)"
   ]
  },
  {
   "cell_type": "code",
   "execution_count": 22,
   "metadata": {},
   "outputs": [],
   "source": [
    "# function created for age dissimilarity\n",
    "def age_dissimilarities(table_cl,i,y):\n",
    "    val = abs( table_cl[i] - table_cl[y] ) / ( 95 - 18 )\n",
    "    return round(val,5)"
   ]
  },
  {
   "cell_type": "code",
   "execution_count": 23,
   "metadata": {},
   "outputs": [
    {
     "data": {
      "text/plain": [
       "0.1039"
      ]
     },
     "execution_count": 23,
     "metadata": {},
     "output_type": "execute_result"
    }
   ],
   "source": [
    "# testing function\n",
    "age_dissimilarities(data_cl['Age'],200,30000)"
   ]
  },
  {
   "cell_type": "markdown",
   "metadata": {},
   "source": [
    "### Products Set Dissimilarities"
   ]
  },
  {
   "cell_type": "code",
   "execution_count": 24,
   "metadata": {},
   "outputs": [],
   "source": [
    "# jaccard similarity for products sets\n",
    "def jaccard_sim(table_cl,i,y):\n",
    "    intersect = len(set(table_cl[i].split(',')).intersection(table_cl[y].split(',')))\n",
    "    union = (len(table_cl[i].split(',')) + len(table_cl[y].split(','))) - intersect\n",
    "    return round((float(intersect) / union),5)"
   ]
  },
  {
   "cell_type": "code",
   "execution_count": 25,
   "metadata": {},
   "outputs": [
    {
     "data": {
      "text/plain": [
       "0.09091"
      ]
     },
     "execution_count": 25,
     "metadata": {},
     "output_type": "execute_result"
    }
   ],
   "source": [
    "# testing function\n",
    "jaccard_sim(data_cl[\"Products\"],300,4000)"
   ]
  },
  {
   "cell_type": "markdown",
   "metadata": {},
   "source": [
    "## 3. Nearest Neighbor (NN) search"
   ]
  },
  {
   "cell_type": "markdown",
   "metadata": {},
   "source": [
    "* The loop below utilize all created functions for dissimilarities, calculates total similarity and keep the top 10 nearest neighbors.\n",
    "* Itterates for the given 10 customers and finding their most similar customers across the enitire dataset.\n",
    "* The time needed for the loop is ~8,5mins but for the convenience of the reader, the results have been exported and loaded again."
   ]
  },
  {
   "cell_type": "code",
   "execution_count": 30,
   "metadata": {},
   "outputs": [
    {
     "name": "stderr",
     "output_type": "stream",
     "text": [
      " 54%|█████▎    | 23130/43191 [00:26<00:23, 858.29it/s]\n"
     ]
    },
    {
     "ename": "KeyboardInterrupt",
     "evalue": "",
     "output_type": "error",
     "traceback": [
      "\u001b[1;31m---------------------------------------------------------------------------\u001b[0m",
      "\u001b[1;31mKeyboardInterrupt\u001b[0m                         Traceback (most recent call last)",
      "\u001b[1;32m<ipython-input-30-113143ed956f>\u001b[0m in \u001b[0;36m<module>\u001b[1;34m\u001b[0m\n\u001b[0;32m     25\u001b[0m           \u001b[0mdf_res\u001b[0m \u001b[1;33m=\u001b[0m \u001b[0mpd\u001b[0m\u001b[1;33m.\u001b[0m\u001b[0mDataFrame\u001b[0m\u001b[1;33m(\u001b[0m\u001b[1;33m[\u001b[0m\u001b[0mres\u001b[0m\u001b[1;33m]\u001b[0m\u001b[1;33m)\u001b[0m\u001b[1;33m\u001b[0m\u001b[1;33m\u001b[0m\u001b[0m\n\u001b[0;32m     26\u001b[0m           \u001b[1;31m# appending the result of y itteration\u001b[0m\u001b[1;33m\u001b[0m\u001b[1;33m\u001b[0m\u001b[1;33m\u001b[0m\u001b[0m\n\u001b[1;32m---> 27\u001b[1;33m           \u001b[0msim_mtrx\u001b[0m \u001b[1;33m=\u001b[0m \u001b[0mpd\u001b[0m\u001b[1;33m.\u001b[0m\u001b[0mconcat\u001b[0m\u001b[1;33m(\u001b[0m\u001b[1;33m[\u001b[0m\u001b[0msim_mtrx\u001b[0m\u001b[1;33m,\u001b[0m \u001b[0mdf_res\u001b[0m\u001b[1;33m]\u001b[0m\u001b[1;33m,\u001b[0m \u001b[0maxis\u001b[0m\u001b[1;33m=\u001b[0m\u001b[1;36m0\u001b[0m\u001b[1;33m)\u001b[0m\u001b[1;33m\u001b[0m\u001b[1;33m\u001b[0m\u001b[0m\n\u001b[0m\u001b[0;32m     28\u001b[0m      \u001b[1;31m# for all the customers, keeping to the final dataframe only top 10 nearest neighbors\u001b[0m\u001b[1;33m\u001b[0m\u001b[1;33m\u001b[0m\u001b[1;33m\u001b[0m\u001b[0m\n\u001b[0;32m     29\u001b[0m      \u001b[0mdf_nn_final\u001b[0m \u001b[1;33m=\u001b[0m \u001b[0mpd\u001b[0m\u001b[1;33m.\u001b[0m\u001b[0mconcat\u001b[0m\u001b[1;33m(\u001b[0m\u001b[1;33m[\u001b[0m\u001b[0mdf_nn_final\u001b[0m\u001b[1;33m,\u001b[0m \u001b[0msim_mtrx\u001b[0m\u001b[1;33m.\u001b[0m\u001b[0mnlargest\u001b[0m\u001b[1;33m(\u001b[0m\u001b[1;36m10\u001b[0m\u001b[1;33m,\u001b[0m \u001b[1;34m'Similarity'\u001b[0m\u001b[1;33m)\u001b[0m\u001b[1;33m]\u001b[0m\u001b[1;33m,\u001b[0m \u001b[0maxis\u001b[0m\u001b[1;33m=\u001b[0m\u001b[1;36m0\u001b[0m\u001b[1;33m)\u001b[0m\u001b[1;33m\u001b[0m\u001b[1;33m\u001b[0m\u001b[0m\n",
      "\u001b[1;32mc:\\Users\\kwnst\\anaconda3\\lib\\site-packages\\pandas\\core\\reshape\\concat.py\u001b[0m in \u001b[0;36mconcat\u001b[1;34m(objs, axis, join, ignore_index, keys, levels, names, verify_integrity, sort, copy)\u001b[0m\n\u001b[0;32m    283\u001b[0m     \u001b[0mValueError\u001b[0m\u001b[1;33m:\u001b[0m \u001b[0mIndexes\u001b[0m \u001b[0mhave\u001b[0m \u001b[0moverlapping\u001b[0m \u001b[0mvalues\u001b[0m\u001b[1;33m:\u001b[0m \u001b[1;33m[\u001b[0m\u001b[1;34m'a'\u001b[0m\u001b[1;33m]\u001b[0m\u001b[1;33m\u001b[0m\u001b[1;33m\u001b[0m\u001b[0m\n\u001b[0;32m    284\u001b[0m     \"\"\"\n\u001b[1;32m--> 285\u001b[1;33m     op = _Concatenator(\n\u001b[0m\u001b[0;32m    286\u001b[0m         \u001b[0mobjs\u001b[0m\u001b[1;33m,\u001b[0m\u001b[1;33m\u001b[0m\u001b[1;33m\u001b[0m\u001b[0m\n\u001b[0;32m    287\u001b[0m         \u001b[0maxis\u001b[0m\u001b[1;33m=\u001b[0m\u001b[0maxis\u001b[0m\u001b[1;33m,\u001b[0m\u001b[1;33m\u001b[0m\u001b[1;33m\u001b[0m\u001b[0m\n",
      "\u001b[1;32mc:\\Users\\kwnst\\anaconda3\\lib\\site-packages\\pandas\\core\\reshape\\concat.py\u001b[0m in \u001b[0;36m__init__\u001b[1;34m(self, objs, axis, join, keys, levels, names, ignore_index, verify_integrity, copy, sort)\u001b[0m\n\u001b[0;32m    465\u001b[0m         \u001b[0mself\u001b[0m\u001b[1;33m.\u001b[0m\u001b[0mcopy\u001b[0m \u001b[1;33m=\u001b[0m \u001b[0mcopy\u001b[0m\u001b[1;33m\u001b[0m\u001b[1;33m\u001b[0m\u001b[0m\n\u001b[0;32m    466\u001b[0m \u001b[1;33m\u001b[0m\u001b[0m\n\u001b[1;32m--> 467\u001b[1;33m         \u001b[0mself\u001b[0m\u001b[1;33m.\u001b[0m\u001b[0mnew_axes\u001b[0m \u001b[1;33m=\u001b[0m \u001b[0mself\u001b[0m\u001b[1;33m.\u001b[0m\u001b[0m_get_new_axes\u001b[0m\u001b[1;33m(\u001b[0m\u001b[1;33m)\u001b[0m\u001b[1;33m\u001b[0m\u001b[1;33m\u001b[0m\u001b[0m\n\u001b[0m\u001b[0;32m    468\u001b[0m \u001b[1;33m\u001b[0m\u001b[0m\n\u001b[0;32m    469\u001b[0m     \u001b[1;32mdef\u001b[0m \u001b[0mget_result\u001b[0m\u001b[1;33m(\u001b[0m\u001b[0mself\u001b[0m\u001b[1;33m)\u001b[0m\u001b[1;33m:\u001b[0m\u001b[1;33m\u001b[0m\u001b[1;33m\u001b[0m\u001b[0m\n",
      "\u001b[1;32mc:\\Users\\kwnst\\anaconda3\\lib\\site-packages\\pandas\\core\\reshape\\concat.py\u001b[0m in \u001b[0;36m_get_new_axes\u001b[1;34m(self)\u001b[0m\n\u001b[0;32m    535\u001b[0m     \u001b[1;32mdef\u001b[0m \u001b[0m_get_new_axes\u001b[0m\u001b[1;33m(\u001b[0m\u001b[0mself\u001b[0m\u001b[1;33m)\u001b[0m \u001b[1;33m->\u001b[0m \u001b[0mList\u001b[0m\u001b[1;33m[\u001b[0m\u001b[0mIndex\u001b[0m\u001b[1;33m]\u001b[0m\u001b[1;33m:\u001b[0m\u001b[1;33m\u001b[0m\u001b[1;33m\u001b[0m\u001b[0m\n\u001b[0;32m    536\u001b[0m         \u001b[0mndim\u001b[0m \u001b[1;33m=\u001b[0m \u001b[0mself\u001b[0m\u001b[1;33m.\u001b[0m\u001b[0m_get_result_dim\u001b[0m\u001b[1;33m(\u001b[0m\u001b[1;33m)\u001b[0m\u001b[1;33m\u001b[0m\u001b[1;33m\u001b[0m\u001b[0m\n\u001b[1;32m--> 537\u001b[1;33m         return [\n\u001b[0m\u001b[0;32m    538\u001b[0m             \u001b[0mself\u001b[0m\u001b[1;33m.\u001b[0m\u001b[0m_get_concat_axis\u001b[0m\u001b[1;33m(\u001b[0m\u001b[1;33m)\u001b[0m \u001b[1;32mif\u001b[0m \u001b[0mi\u001b[0m \u001b[1;33m==\u001b[0m \u001b[0mself\u001b[0m\u001b[1;33m.\u001b[0m\u001b[0mbm_axis\u001b[0m \u001b[1;32melse\u001b[0m \u001b[0mself\u001b[0m\u001b[1;33m.\u001b[0m\u001b[0m_get_comb_axis\u001b[0m\u001b[1;33m(\u001b[0m\u001b[0mi\u001b[0m\u001b[1;33m)\u001b[0m\u001b[1;33m\u001b[0m\u001b[1;33m\u001b[0m\u001b[0m\n\u001b[0;32m    539\u001b[0m             \u001b[1;32mfor\u001b[0m \u001b[0mi\u001b[0m \u001b[1;32min\u001b[0m \u001b[0mrange\u001b[0m\u001b[1;33m(\u001b[0m\u001b[0mndim\u001b[0m\u001b[1;33m)\u001b[0m\u001b[1;33m\u001b[0m\u001b[1;33m\u001b[0m\u001b[0m\n",
      "\u001b[1;32mc:\\Users\\kwnst\\anaconda3\\lib\\site-packages\\pandas\\core\\reshape\\concat.py\u001b[0m in \u001b[0;36m<listcomp>\u001b[1;34m(.0)\u001b[0m\n\u001b[0;32m    536\u001b[0m         \u001b[0mndim\u001b[0m \u001b[1;33m=\u001b[0m \u001b[0mself\u001b[0m\u001b[1;33m.\u001b[0m\u001b[0m_get_result_dim\u001b[0m\u001b[1;33m(\u001b[0m\u001b[1;33m)\u001b[0m\u001b[1;33m\u001b[0m\u001b[1;33m\u001b[0m\u001b[0m\n\u001b[0;32m    537\u001b[0m         return [\n\u001b[1;32m--> 538\u001b[1;33m             \u001b[0mself\u001b[0m\u001b[1;33m.\u001b[0m\u001b[0m_get_concat_axis\u001b[0m\u001b[1;33m(\u001b[0m\u001b[1;33m)\u001b[0m \u001b[1;32mif\u001b[0m \u001b[0mi\u001b[0m \u001b[1;33m==\u001b[0m \u001b[0mself\u001b[0m\u001b[1;33m.\u001b[0m\u001b[0mbm_axis\u001b[0m \u001b[1;32melse\u001b[0m \u001b[0mself\u001b[0m\u001b[1;33m.\u001b[0m\u001b[0m_get_comb_axis\u001b[0m\u001b[1;33m(\u001b[0m\u001b[0mi\u001b[0m\u001b[1;33m)\u001b[0m\u001b[1;33m\u001b[0m\u001b[1;33m\u001b[0m\u001b[0m\n\u001b[0m\u001b[0;32m    539\u001b[0m             \u001b[1;32mfor\u001b[0m \u001b[0mi\u001b[0m \u001b[1;32min\u001b[0m \u001b[0mrange\u001b[0m\u001b[1;33m(\u001b[0m\u001b[0mndim\u001b[0m\u001b[1;33m)\u001b[0m\u001b[1;33m\u001b[0m\u001b[1;33m\u001b[0m\u001b[0m\n\u001b[0;32m    540\u001b[0m         ]\n",
      "\u001b[1;32mc:\\Users\\kwnst\\anaconda3\\lib\\site-packages\\pandas\\core\\reshape\\concat.py\u001b[0m in \u001b[0;36m_get_concat_axis\u001b[1;34m(self)\u001b[0m\n\u001b[0;32m    590\u001b[0m \u001b[1;33m\u001b[0m\u001b[0m\n\u001b[0;32m    591\u001b[0m         \u001b[1;32mif\u001b[0m \u001b[0mself\u001b[0m\u001b[1;33m.\u001b[0m\u001b[0mkeys\u001b[0m \u001b[1;32mis\u001b[0m \u001b[1;32mNone\u001b[0m\u001b[1;33m:\u001b[0m\u001b[1;33m\u001b[0m\u001b[1;33m\u001b[0m\u001b[0m\n\u001b[1;32m--> 592\u001b[1;33m             \u001b[0mconcat_axis\u001b[0m \u001b[1;33m=\u001b[0m \u001b[0m_concat_indexes\u001b[0m\u001b[1;33m(\u001b[0m\u001b[0mindexes\u001b[0m\u001b[1;33m)\u001b[0m\u001b[1;33m\u001b[0m\u001b[1;33m\u001b[0m\u001b[0m\n\u001b[0m\u001b[0;32m    593\u001b[0m         \u001b[1;32melse\u001b[0m\u001b[1;33m:\u001b[0m\u001b[1;33m\u001b[0m\u001b[1;33m\u001b[0m\u001b[0m\n\u001b[0;32m    594\u001b[0m             concat_axis = _make_concat_multiindex(\n",
      "\u001b[1;32mc:\\Users\\kwnst\\anaconda3\\lib\\site-packages\\pandas\\core\\reshape\\concat.py\u001b[0m in \u001b[0;36m_concat_indexes\u001b[1;34m(indexes)\u001b[0m\n\u001b[0;32m    608\u001b[0m \u001b[1;33m\u001b[0m\u001b[0m\n\u001b[0;32m    609\u001b[0m \u001b[1;32mdef\u001b[0m \u001b[0m_concat_indexes\u001b[0m\u001b[1;33m(\u001b[0m\u001b[0mindexes\u001b[0m\u001b[1;33m)\u001b[0m \u001b[1;33m->\u001b[0m \u001b[0mIndex\u001b[0m\u001b[1;33m:\u001b[0m\u001b[1;33m\u001b[0m\u001b[1;33m\u001b[0m\u001b[0m\n\u001b[1;32m--> 610\u001b[1;33m     \u001b[1;32mreturn\u001b[0m \u001b[0mindexes\u001b[0m\u001b[1;33m[\u001b[0m\u001b[1;36m0\u001b[0m\u001b[1;33m]\u001b[0m\u001b[1;33m.\u001b[0m\u001b[0mappend\u001b[0m\u001b[1;33m(\u001b[0m\u001b[0mindexes\u001b[0m\u001b[1;33m[\u001b[0m\u001b[1;36m1\u001b[0m\u001b[1;33m:\u001b[0m\u001b[1;33m]\u001b[0m\u001b[1;33m)\u001b[0m\u001b[1;33m\u001b[0m\u001b[1;33m\u001b[0m\u001b[0m\n\u001b[0m\u001b[0;32m    611\u001b[0m \u001b[1;33m\u001b[0m\u001b[0m\n\u001b[0;32m    612\u001b[0m \u001b[1;33m\u001b[0m\u001b[0m\n",
      "\u001b[1;32mc:\\Users\\kwnst\\anaconda3\\lib\\site-packages\\pandas\\core\\indexes\\base.py\u001b[0m in \u001b[0;36mappend\u001b[1;34m(self, other)\u001b[0m\n\u001b[0;32m   4354\u001b[0m         \u001b[0mname\u001b[0m \u001b[1;33m=\u001b[0m \u001b[1;32mNone\u001b[0m \u001b[1;32mif\u001b[0m \u001b[0mlen\u001b[0m\u001b[1;33m(\u001b[0m\u001b[0mnames\u001b[0m\u001b[1;33m)\u001b[0m \u001b[1;33m>\u001b[0m \u001b[1;36m1\u001b[0m \u001b[1;32melse\u001b[0m \u001b[0mself\u001b[0m\u001b[1;33m.\u001b[0m\u001b[0mname\u001b[0m\u001b[1;33m\u001b[0m\u001b[1;33m\u001b[0m\u001b[0m\n\u001b[0;32m   4355\u001b[0m \u001b[1;33m\u001b[0m\u001b[0m\n\u001b[1;32m-> 4356\u001b[1;33m         \u001b[1;32mreturn\u001b[0m \u001b[0mself\u001b[0m\u001b[1;33m.\u001b[0m\u001b[0m_concat\u001b[0m\u001b[1;33m(\u001b[0m\u001b[0mto_concat\u001b[0m\u001b[1;33m,\u001b[0m \u001b[0mname\u001b[0m\u001b[1;33m)\u001b[0m\u001b[1;33m\u001b[0m\u001b[1;33m\u001b[0m\u001b[0m\n\u001b[0m\u001b[0;32m   4357\u001b[0m \u001b[1;33m\u001b[0m\u001b[0m\n\u001b[0;32m   4358\u001b[0m     \u001b[1;32mdef\u001b[0m \u001b[0m_concat\u001b[0m\u001b[1;33m(\u001b[0m\u001b[0mself\u001b[0m\u001b[1;33m,\u001b[0m \u001b[0mto_concat\u001b[0m\u001b[1;33m:\u001b[0m \u001b[0mList\u001b[0m\u001b[1;33m[\u001b[0m\u001b[1;34m\"Index\"\u001b[0m\u001b[1;33m]\u001b[0m\u001b[1;33m,\u001b[0m \u001b[0mname\u001b[0m\u001b[1;33m:\u001b[0m \u001b[0mLabel\u001b[0m\u001b[1;33m)\u001b[0m \u001b[1;33m->\u001b[0m \u001b[1;34m\"Index\"\u001b[0m\u001b[1;33m:\u001b[0m\u001b[1;33m\u001b[0m\u001b[1;33m\u001b[0m\u001b[0m\n",
      "\u001b[1;32mc:\\Users\\kwnst\\anaconda3\\lib\\site-packages\\pandas\\core\\indexes\\base.py\u001b[0m in \u001b[0;36m_concat\u001b[1;34m(self, to_concat, name)\u001b[0m\n\u001b[0;32m   4362\u001b[0m         \u001b[0mto_concat_vals\u001b[0m \u001b[1;33m=\u001b[0m \u001b[1;33m[\u001b[0m\u001b[0mx\u001b[0m\u001b[1;33m.\u001b[0m\u001b[0m_values\u001b[0m \u001b[1;32mfor\u001b[0m \u001b[0mx\u001b[0m \u001b[1;32min\u001b[0m \u001b[0mto_concat\u001b[0m\u001b[1;33m]\u001b[0m\u001b[1;33m\u001b[0m\u001b[1;33m\u001b[0m\u001b[0m\n\u001b[0;32m   4363\u001b[0m \u001b[1;33m\u001b[0m\u001b[0m\n\u001b[1;32m-> 4364\u001b[1;33m         \u001b[0mresult\u001b[0m \u001b[1;33m=\u001b[0m \u001b[0mconcat_compat\u001b[0m\u001b[1;33m(\u001b[0m\u001b[0mto_concat_vals\u001b[0m\u001b[1;33m)\u001b[0m\u001b[1;33m\u001b[0m\u001b[1;33m\u001b[0m\u001b[0m\n\u001b[0m\u001b[0;32m   4365\u001b[0m         \u001b[1;32mreturn\u001b[0m \u001b[0mIndex\u001b[0m\u001b[1;33m(\u001b[0m\u001b[0mresult\u001b[0m\u001b[1;33m,\u001b[0m \u001b[0mname\u001b[0m\u001b[1;33m=\u001b[0m\u001b[0mname\u001b[0m\u001b[1;33m)\u001b[0m\u001b[1;33m\u001b[0m\u001b[1;33m\u001b[0m\u001b[0m\n\u001b[0;32m   4366\u001b[0m \u001b[1;33m\u001b[0m\u001b[0m\n",
      "\u001b[1;32mc:\\Users\\kwnst\\anaconda3\\lib\\site-packages\\pandas\\core\\dtypes\\concat.py\u001b[0m in \u001b[0;36mconcat_compat\u001b[1;34m(to_concat, axis)\u001b[0m\n\u001b[0;32m    169\u001b[0m                 \u001b[0mto_concat\u001b[0m \u001b[1;33m=\u001b[0m \u001b[1;33m[\u001b[0m\u001b[0mx\u001b[0m\u001b[1;33m.\u001b[0m\u001b[0mastype\u001b[0m\u001b[1;33m(\u001b[0m\u001b[1;34m\"object\"\u001b[0m\u001b[1;33m)\u001b[0m \u001b[1;32mfor\u001b[0m \u001b[0mx\u001b[0m \u001b[1;32min\u001b[0m \u001b[0mto_concat\u001b[0m\u001b[1;33m]\u001b[0m\u001b[1;33m\u001b[0m\u001b[1;33m\u001b[0m\u001b[0m\n\u001b[0;32m    170\u001b[0m \u001b[1;33m\u001b[0m\u001b[0m\n\u001b[1;32m--> 171\u001b[1;33m     \u001b[1;32mreturn\u001b[0m \u001b[0mnp\u001b[0m\u001b[1;33m.\u001b[0m\u001b[0mconcatenate\u001b[0m\u001b[1;33m(\u001b[0m\u001b[0mto_concat\u001b[0m\u001b[1;33m,\u001b[0m \u001b[0maxis\u001b[0m\u001b[1;33m=\u001b[0m\u001b[0maxis\u001b[0m\u001b[1;33m)\u001b[0m\u001b[1;33m\u001b[0m\u001b[1;33m\u001b[0m\u001b[0m\n\u001b[0m\u001b[0;32m    172\u001b[0m \u001b[1;33m\u001b[0m\u001b[0m\n\u001b[0;32m    173\u001b[0m \u001b[1;33m\u001b[0m\u001b[0m\n",
      "\u001b[1;32m<__array_function__ internals>\u001b[0m in \u001b[0;36mconcatenate\u001b[1;34m(*args, **kwargs)\u001b[0m\n",
      "\u001b[1;31mKeyboardInterrupt\u001b[0m: "
     ]
    }
   ],
   "source": [
    "customers = [1200, 3650, 10400, 14930, 22330, 25671, 29311, 34650, 39200, 42000]\n",
    "df_nn_final = pd.DataFrame(columns=['CustomerID1','CustomerID2','Similarity'])\n",
    "for i in customers:\n",
    "     sim_mtrx = pd.DataFrame(columns=['CustomerID1','CustomerID2','Similarity'])     \n",
    "     for y in tqdm(data_cl.index):\n",
    "          if y==i:\n",
    "               continue\n",
    "          # ordinals\n",
    "          rr = rating_dissimilarities(data_cl['RatingRank'], i, y)\n",
    "          er = education_dissimilarities(data_cl['EduRank'], i, y)\n",
    "          # nominals\n",
    "          jb = nominal_dissimilarities(data_cl['Job'], i, y)\n",
    "          mr = nominal_dissimilarities(data_cl['Marital'], i, y)\n",
    "          df = nominal_dissimilarities(data_cl['Default'], i, y)\n",
    "          hs = nominal_dissimilarities(data_cl['Housing'], i, y)\n",
    "          ln = nominal_dissimilarities(data_cl['Loan'], i, y)\n",
    "          # products set\n",
    "          prd = 1 - jaccard_sim(data_cl['Products'], i, y)\n",
    "          # numerical\n",
    "          ag = age_dissimilarities(data_cl['Age'], i, y)\n",
    "          bal = balance_dissimilarities(data_cl['Balance'], i, y)\n",
    "          # aggregation\n",
    "          ttl = (1 - ((rr+er+jb+mr+df+hs+ln+prd+ag+bal)/10))\n",
    "          res = {\"CustomerID1\" : i, \"CustomerID2\": y, \"Similarity\": ttl}\n",
    "          df_res = pd.DataFrame([res])\n",
    "          # appending the result of y itteration\n",
    "          sim_mtrx = pd.concat([sim_mtrx, df_res], axis=0)\n",
    "     # for all the customers, keeping to the final dataframe only top 10 nearest neighbors\n",
    "     df_nn_final = pd.concat([df_nn_final, sim_mtrx.nlargest(10, 'Similarity')], axis=0)"
   ]
  },
  {
   "cell_type": "code",
   "execution_count": null,
   "metadata": {},
   "outputs": [],
   "source": [
    "df_nn_final.to_csv(\"./top10nn.csv\")"
   ]
  },
  {
   "cell_type": "markdown",
   "metadata": {},
   "source": [
    "* If you have prefered not to run the loop, run the below cell to load the results."
   ]
  },
  {
   "cell_type": "code",
   "execution_count": 65,
   "metadata": {},
   "outputs": [
    {
     "data": {
      "text/html": [
       "<div>\n",
       "<style scoped>\n",
       "    .dataframe tbody tr th:only-of-type {\n",
       "        vertical-align: middle;\n",
       "    }\n",
       "\n",
       "    .dataframe tbody tr th {\n",
       "        vertical-align: top;\n",
       "    }\n",
       "\n",
       "    .dataframe thead th {\n",
       "        text-align: right;\n",
       "    }\n",
       "</style>\n",
       "<table border=\"1\" class=\"dataframe\">\n",
       "  <thead>\n",
       "    <tr style=\"text-align: right;\">\n",
       "      <th></th>\n",
       "      <th>CustomerID1</th>\n",
       "      <th>CustomerID2</th>\n",
       "      <th>Similarity</th>\n",
       "    </tr>\n",
       "  </thead>\n",
       "  <tbody>\n",
       "    <tr>\n",
       "      <th>0</th>\n",
       "      <td>1200</td>\n",
       "      <td>24897</td>\n",
       "      <td>0.939524</td>\n",
       "    </tr>\n",
       "    <tr>\n",
       "      <th>0</th>\n",
       "      <td>1200</td>\n",
       "      <td>7448</td>\n",
       "      <td>0.934718</td>\n",
       "    </tr>\n",
       "    <tr>\n",
       "      <th>0</th>\n",
       "      <td>1200</td>\n",
       "      <td>1660</td>\n",
       "      <td>0.933972</td>\n",
       "    </tr>\n",
       "    <tr>\n",
       "      <th>0</th>\n",
       "      <td>1200</td>\n",
       "      <td>14912</td>\n",
       "      <td>0.932751</td>\n",
       "    </tr>\n",
       "    <tr>\n",
       "      <th>0</th>\n",
       "      <td>1200</td>\n",
       "      <td>34503</td>\n",
       "      <td>0.932023</td>\n",
       "    </tr>\n",
       "  </tbody>\n",
       "</table>\n",
       "</div>"
      ],
      "text/plain": [
       "   CustomerID1  CustomerID2  Similarity\n",
       "0         1200        24897    0.939524\n",
       "0         1200         7448    0.934718\n",
       "0         1200         1660    0.933972\n",
       "0         1200        14912    0.932751\n",
       "0         1200        34503    0.932023"
      ]
     },
     "metadata": {},
     "output_type": "display_data"
    },
    {
     "data": {
      "text/html": [
       "<div>\n",
       "<style scoped>\n",
       "    .dataframe tbody tr th:only-of-type {\n",
       "        vertical-align: middle;\n",
       "    }\n",
       "\n",
       "    .dataframe tbody tr th {\n",
       "        vertical-align: top;\n",
       "    }\n",
       "\n",
       "    .dataframe thead th {\n",
       "        text-align: right;\n",
       "    }\n",
       "</style>\n",
       "<table border=\"1\" class=\"dataframe\">\n",
       "  <thead>\n",
       "    <tr style=\"text-align: right;\">\n",
       "      <th></th>\n",
       "      <th>CustomerID1</th>\n",
       "      <th>CustomerID2</th>\n",
       "      <th>Similarity</th>\n",
       "    </tr>\n",
       "  </thead>\n",
       "  <tbody>\n",
       "    <tr>\n",
       "      <th>0</th>\n",
       "      <td>3650</td>\n",
       "      <td>30584</td>\n",
       "      <td>0.942830</td>\n",
       "    </tr>\n",
       "    <tr>\n",
       "      <th>0</th>\n",
       "      <td>3650</td>\n",
       "      <td>33540</td>\n",
       "      <td>0.941803</td>\n",
       "    </tr>\n",
       "    <tr>\n",
       "      <th>0</th>\n",
       "      <td>3650</td>\n",
       "      <td>16558</td>\n",
       "      <td>0.941172</td>\n",
       "    </tr>\n",
       "    <tr>\n",
       "      <th>0</th>\n",
       "      <td>3650</td>\n",
       "      <td>25016</td>\n",
       "      <td>0.939029</td>\n",
       "    </tr>\n",
       "    <tr>\n",
       "      <th>0</th>\n",
       "      <td>3650</td>\n",
       "      <td>24799</td>\n",
       "      <td>0.932146</td>\n",
       "    </tr>\n",
       "  </tbody>\n",
       "</table>\n",
       "</div>"
      ],
      "text/plain": [
       "   CustomerID1  CustomerID2  Similarity\n",
       "0         3650        30584    0.942830\n",
       "0         3650        33540    0.941803\n",
       "0         3650        16558    0.941172\n",
       "0         3650        25016    0.939029\n",
       "0         3650        24799    0.932146"
      ]
     },
     "metadata": {},
     "output_type": "display_data"
    }
   ],
   "source": [
    "df_nn_final = pd.read_csv(\"./top10nn.csv\", delimiter=',', index_col=0)\n",
    "display(df_nn_final.head())\n",
    "display(df_nn_final.tail())"
   ]
  },
  {
   "cell_type": "markdown",
   "metadata": {},
   "source": [
    "* There are 2 options to display the results:\n",
    "    * Either use the below function to input a specific customer and see the 10NN.\n",
    "    * Or run the loop after the function to display the results for all 10 customers."
   ]
  },
  {
   "cell_type": "code",
   "execution_count": 61,
   "metadata": {},
   "outputs": [],
   "source": [
    "# function to display the 10NN after input CustomerID (e.g., \"1200\")\n",
    "def nearest_neighbor(df):\n",
    "    cust_id = int(input('Provide a CustomerID '))\n",
    "    display_res = df[df['CustomerID1']==cust_id]\n",
    "    style1 = [dict(selector='caption', props=[(\"font-size\",'100%'), (\"font-weight\", 'bold')])]\n",
    "    return display_res[['CustomerID2', 'Similarity']].reset_index(drop=True).style.set_caption(\"10 NN for CustomerID %i\" % cust_id).set_table_styles(style1)"
   ]
  },
  {
   "cell_type": "code",
   "execution_count": 62,
   "metadata": {},
   "outputs": [
    {
     "data": {
      "text/html": [
       "<style  type=\"text/css\" >\n",
       "    #T_d3e90_ caption {\n",
       "          font-size: 100%;\n",
       "          font-weight: bold;\n",
       "    }</style><table id=\"T_d3e90_\" ><caption>10 NN for CustomerID 1200</caption><thead>    <tr>        <th class=\"blank level0\" ></th>        <th class=\"col_heading level0 col0\" >CustomerID2</th>        <th class=\"col_heading level0 col1\" >Similarity</th>    </tr></thead><tbody>\n",
       "                <tr>\n",
       "                        <th id=\"T_d3e90_level0_row0\" class=\"row_heading level0 row0\" >0</th>\n",
       "                        <td id=\"T_d3e90_row0_col0\" class=\"data row0 col0\" >24897</td>\n",
       "                        <td id=\"T_d3e90_row0_col1\" class=\"data row0 col1\" >0.939524</td>\n",
       "            </tr>\n",
       "            <tr>\n",
       "                        <th id=\"T_d3e90_level0_row1\" class=\"row_heading level0 row1\" >1</th>\n",
       "                        <td id=\"T_d3e90_row1_col0\" class=\"data row1 col0\" >7448</td>\n",
       "                        <td id=\"T_d3e90_row1_col1\" class=\"data row1 col1\" >0.934718</td>\n",
       "            </tr>\n",
       "            <tr>\n",
       "                        <th id=\"T_d3e90_level0_row2\" class=\"row_heading level0 row2\" >2</th>\n",
       "                        <td id=\"T_d3e90_row2_col0\" class=\"data row2 col0\" >1660</td>\n",
       "                        <td id=\"T_d3e90_row2_col1\" class=\"data row2 col1\" >0.933972</td>\n",
       "            </tr>\n",
       "            <tr>\n",
       "                        <th id=\"T_d3e90_level0_row3\" class=\"row_heading level0 row3\" >3</th>\n",
       "                        <td id=\"T_d3e90_row3_col0\" class=\"data row3 col0\" >14912</td>\n",
       "                        <td id=\"T_d3e90_row3_col1\" class=\"data row3 col1\" >0.932751</td>\n",
       "            </tr>\n",
       "            <tr>\n",
       "                        <th id=\"T_d3e90_level0_row4\" class=\"row_heading level0 row4\" >4</th>\n",
       "                        <td id=\"T_d3e90_row4_col0\" class=\"data row4 col0\" >34503</td>\n",
       "                        <td id=\"T_d3e90_row4_col1\" class=\"data row4 col1\" >0.932023</td>\n",
       "            </tr>\n",
       "            <tr>\n",
       "                        <th id=\"T_d3e90_level0_row5\" class=\"row_heading level0 row5\" >5</th>\n",
       "                        <td id=\"T_d3e90_row5_col0\" class=\"data row5 col0\" >7034</td>\n",
       "                        <td id=\"T_d3e90_row5_col1\" class=\"data row5 col1\" >0.930920</td>\n",
       "            </tr>\n",
       "            <tr>\n",
       "                        <th id=\"T_d3e90_level0_row6\" class=\"row_heading level0 row6\" >6</th>\n",
       "                        <td id=\"T_d3e90_row6_col0\" class=\"data row6 col0\" >13730</td>\n",
       "                        <td id=\"T_d3e90_row6_col1\" class=\"data row6 col1\" >0.930823</td>\n",
       "            </tr>\n",
       "            <tr>\n",
       "                        <th id=\"T_d3e90_level0_row7\" class=\"row_heading level0 row7\" >7</th>\n",
       "                        <td id=\"T_d3e90_row7_col0\" class=\"data row7 col0\" >36452</td>\n",
       "                        <td id=\"T_d3e90_row7_col1\" class=\"data row7 col1\" >0.930694</td>\n",
       "            </tr>\n",
       "            <tr>\n",
       "                        <th id=\"T_d3e90_level0_row8\" class=\"row_heading level0 row8\" >8</th>\n",
       "                        <td id=\"T_d3e90_row8_col0\" class=\"data row8 col0\" >8604</td>\n",
       "                        <td id=\"T_d3e90_row8_col1\" class=\"data row8 col1\" >0.929582</td>\n",
       "            </tr>\n",
       "            <tr>\n",
       "                        <th id=\"T_d3e90_level0_row9\" class=\"row_heading level0 row9\" >9</th>\n",
       "                        <td id=\"T_d3e90_row9_col0\" class=\"data row9 col0\" >313</td>\n",
       "                        <td id=\"T_d3e90_row9_col1\" class=\"data row9 col1\" >0.929524</td>\n",
       "            </tr>\n",
       "    </tbody></table>"
      ],
      "text/plain": [
       "<pandas.io.formats.style.Styler at 0x1598d723760>"
      ]
     },
     "execution_count": 62,
     "metadata": {},
     "output_type": "execute_result"
    }
   ],
   "source": [
    "nearest_neighbor(df_nn_final)"
   ]
  },
  {
   "cell_type": "code",
   "execution_count": 59,
   "metadata": {},
   "outputs": [
    {
     "data": {
      "text/html": [
       "<style  type=\"text/css\" >\n",
       "    #T_24245_ caption {\n",
       "          font-size: 100%;\n",
       "          font-weight: bold;\n",
       "    }</style><table id=\"T_24245_\" ><caption>10 NN for CustomerID 1200</caption><thead>    <tr>        <th class=\"blank level0\" ></th>        <th class=\"col_heading level0 col0\" >CustomerID2</th>        <th class=\"col_heading level0 col1\" >Similarity</th>    </tr></thead><tbody>\n",
       "                <tr>\n",
       "                        <th id=\"T_24245_level0_row0\" class=\"row_heading level0 row0\" >0</th>\n",
       "                        <td id=\"T_24245_row0_col0\" class=\"data row0 col0\" >24897</td>\n",
       "                        <td id=\"T_24245_row0_col1\" class=\"data row0 col1\" >0.939524</td>\n",
       "            </tr>\n",
       "            <tr>\n",
       "                        <th id=\"T_24245_level0_row1\" class=\"row_heading level0 row1\" >1</th>\n",
       "                        <td id=\"T_24245_row1_col0\" class=\"data row1 col0\" >7448</td>\n",
       "                        <td id=\"T_24245_row1_col1\" class=\"data row1 col1\" >0.934718</td>\n",
       "            </tr>\n",
       "            <tr>\n",
       "                        <th id=\"T_24245_level0_row2\" class=\"row_heading level0 row2\" >2</th>\n",
       "                        <td id=\"T_24245_row2_col0\" class=\"data row2 col0\" >1660</td>\n",
       "                        <td id=\"T_24245_row2_col1\" class=\"data row2 col1\" >0.933972</td>\n",
       "            </tr>\n",
       "            <tr>\n",
       "                        <th id=\"T_24245_level0_row3\" class=\"row_heading level0 row3\" >3</th>\n",
       "                        <td id=\"T_24245_row3_col0\" class=\"data row3 col0\" >14912</td>\n",
       "                        <td id=\"T_24245_row3_col1\" class=\"data row3 col1\" >0.932751</td>\n",
       "            </tr>\n",
       "            <tr>\n",
       "                        <th id=\"T_24245_level0_row4\" class=\"row_heading level0 row4\" >4</th>\n",
       "                        <td id=\"T_24245_row4_col0\" class=\"data row4 col0\" >34503</td>\n",
       "                        <td id=\"T_24245_row4_col1\" class=\"data row4 col1\" >0.932023</td>\n",
       "            </tr>\n",
       "            <tr>\n",
       "                        <th id=\"T_24245_level0_row5\" class=\"row_heading level0 row5\" >5</th>\n",
       "                        <td id=\"T_24245_row5_col0\" class=\"data row5 col0\" >7034</td>\n",
       "                        <td id=\"T_24245_row5_col1\" class=\"data row5 col1\" >0.930920</td>\n",
       "            </tr>\n",
       "            <tr>\n",
       "                        <th id=\"T_24245_level0_row6\" class=\"row_heading level0 row6\" >6</th>\n",
       "                        <td id=\"T_24245_row6_col0\" class=\"data row6 col0\" >13730</td>\n",
       "                        <td id=\"T_24245_row6_col1\" class=\"data row6 col1\" >0.930823</td>\n",
       "            </tr>\n",
       "            <tr>\n",
       "                        <th id=\"T_24245_level0_row7\" class=\"row_heading level0 row7\" >7</th>\n",
       "                        <td id=\"T_24245_row7_col0\" class=\"data row7 col0\" >36452</td>\n",
       "                        <td id=\"T_24245_row7_col1\" class=\"data row7 col1\" >0.930694</td>\n",
       "            </tr>\n",
       "            <tr>\n",
       "                        <th id=\"T_24245_level0_row8\" class=\"row_heading level0 row8\" >8</th>\n",
       "                        <td id=\"T_24245_row8_col0\" class=\"data row8 col0\" >8604</td>\n",
       "                        <td id=\"T_24245_row8_col1\" class=\"data row8 col1\" >0.929582</td>\n",
       "            </tr>\n",
       "            <tr>\n",
       "                        <th id=\"T_24245_level0_row9\" class=\"row_heading level0 row9\" >9</th>\n",
       "                        <td id=\"T_24245_row9_col0\" class=\"data row9 col0\" >313</td>\n",
       "                        <td id=\"T_24245_row9_col1\" class=\"data row9 col1\" >0.929524</td>\n",
       "            </tr>\n",
       "    </tbody></table>"
      ],
      "text/plain": [
       "<pandas.io.formats.style.Styler at 0x1598e310cd0>"
      ]
     },
     "metadata": {},
     "output_type": "display_data"
    },
    {
     "data": {
      "text/html": [
       "<style  type=\"text/css\" >\n",
       "    #T_3c8b8_ caption {\n",
       "          font-size: 100%;\n",
       "          font-weight: bold;\n",
       "    }</style><table id=\"T_3c8b8_\" ><caption>10 NN for CustomerID 3650</caption><thead>    <tr>        <th class=\"blank level0\" ></th>        <th class=\"col_heading level0 col0\" >CustomerID2</th>        <th class=\"col_heading level0 col1\" >Similarity</th>    </tr></thead><tbody>\n",
       "                <tr>\n",
       "                        <th id=\"T_3c8b8_level0_row0\" class=\"row_heading level0 row0\" >0</th>\n",
       "                        <td id=\"T_3c8b8_row0_col0\" class=\"data row0 col0\" >5964</td>\n",
       "                        <td id=\"T_3c8b8_row0_col1\" class=\"data row0 col1\" >0.965507</td>\n",
       "            </tr>\n",
       "            <tr>\n",
       "                        <th id=\"T_3c8b8_level0_row1\" class=\"row_heading level0 row1\" >1</th>\n",
       "                        <td id=\"T_3c8b8_row1_col0\" class=\"data row1 col0\" >8783</td>\n",
       "                        <td id=\"T_3c8b8_row1_col1\" class=\"data row1 col1\" >0.949264</td>\n",
       "            </tr>\n",
       "            <tr>\n",
       "                        <th id=\"T_3c8b8_level0_row2\" class=\"row_heading level0 row2\" >2</th>\n",
       "                        <td id=\"T_3c8b8_row2_col0\" class=\"data row2 col0\" >26915</td>\n",
       "                        <td id=\"T_3c8b8_row2_col1\" class=\"data row2 col1\" >0.945718</td>\n",
       "            </tr>\n",
       "            <tr>\n",
       "                        <th id=\"T_3c8b8_level0_row3\" class=\"row_heading level0 row3\" >3</th>\n",
       "                        <td id=\"T_3c8b8_row3_col0\" class=\"data row3 col0\" >4472</td>\n",
       "                        <td id=\"T_3c8b8_row3_col1\" class=\"data row3 col1\" >0.944699</td>\n",
       "            </tr>\n",
       "            <tr>\n",
       "                        <th id=\"T_3c8b8_level0_row4\" class=\"row_heading level0 row4\" >4</th>\n",
       "                        <td id=\"T_3c8b8_row4_col0\" class=\"data row4 col0\" >36416</td>\n",
       "                        <td id=\"T_3c8b8_row4_col1\" class=\"data row4 col1\" >0.943460</td>\n",
       "            </tr>\n",
       "            <tr>\n",
       "                        <th id=\"T_3c8b8_level0_row5\" class=\"row_heading level0 row5\" >5</th>\n",
       "                        <td id=\"T_3c8b8_row5_col0\" class=\"data row5 col0\" >30584</td>\n",
       "                        <td id=\"T_3c8b8_row5_col1\" class=\"data row5 col1\" >0.942830</td>\n",
       "            </tr>\n",
       "            <tr>\n",
       "                        <th id=\"T_3c8b8_level0_row6\" class=\"row_heading level0 row6\" >6</th>\n",
       "                        <td id=\"T_3c8b8_row6_col0\" class=\"data row6 col0\" >33540</td>\n",
       "                        <td id=\"T_3c8b8_row6_col1\" class=\"data row6 col1\" >0.941803</td>\n",
       "            </tr>\n",
       "            <tr>\n",
       "                        <th id=\"T_3c8b8_level0_row7\" class=\"row_heading level0 row7\" >7</th>\n",
       "                        <td id=\"T_3c8b8_row7_col0\" class=\"data row7 col0\" >16558</td>\n",
       "                        <td id=\"T_3c8b8_row7_col1\" class=\"data row7 col1\" >0.941172</td>\n",
       "            </tr>\n",
       "            <tr>\n",
       "                        <th id=\"T_3c8b8_level0_row8\" class=\"row_heading level0 row8\" >8</th>\n",
       "                        <td id=\"T_3c8b8_row8_col0\" class=\"data row8 col0\" >25016</td>\n",
       "                        <td id=\"T_3c8b8_row8_col1\" class=\"data row8 col1\" >0.939029</td>\n",
       "            </tr>\n",
       "            <tr>\n",
       "                        <th id=\"T_3c8b8_level0_row9\" class=\"row_heading level0 row9\" >9</th>\n",
       "                        <td id=\"T_3c8b8_row9_col0\" class=\"data row9 col0\" >24799</td>\n",
       "                        <td id=\"T_3c8b8_row9_col1\" class=\"data row9 col1\" >0.932146</td>\n",
       "            </tr>\n",
       "    </tbody></table>"
      ],
      "text/plain": [
       "<pandas.io.formats.style.Styler at 0x1598e2da910>"
      ]
     },
     "metadata": {},
     "output_type": "display_data"
    }
   ],
   "source": [
    "# loop to print the results for all 10 customers\n",
    "for i in df_nn_final['CustomerID1'].unique() : \n",
    "    display_res = df_nn_final[df_nn_final['CustomerID1']==i]\n",
    "    style1 = [dict(selector='caption', props=[(\"font-size\",'100%'), (\"font-weight\", 'bold')])]\n",
    "    display(display_res[['CustomerID2', 'Similarity']].reset_index(drop=True).style.set_caption(\"10 NN for CustomerID %i\" % i).set_table_styles(style1))\n",
    "    "
   ]
  },
  {
   "cell_type": "markdown",
   "metadata": {},
   "source": [
    "## 4. Customer rating prediction"
   ]
  },
  {
   "cell_type": "markdown",
   "metadata": {},
   "source": [
    "* The loop below utilize all created functions for dissimilarities, calculates total similarity and keep the top 10 nearest neighbors by excluding \"Rating\".\n",
    "* Itterates for the first 50 customers, finding their most similar customers across the enitire dataset.\n",
    "* After the detection of NN10, it predicts the Customer Rating Ranking based on Average rating of NN10 and the Weighted Average based also on NN10 and the respective similarity values.\n",
    "* The time needed for the loop is ~42mins but for the convenience of the reader, the results have been exported and loaded again."
   ]
  },
  {
   "cell_type": "code",
   "execution_count": 49,
   "metadata": {},
   "outputs": [
    {
     "name": "stderr",
     "output_type": "stream",
     "text": [
      "100%|██████████| 43191/43191 [01:17<00:00, 556.13it/s]\n"
     ]
    }
   ],
   "source": [
    "df_nn_final2 = pd.DataFrame(columns=['CustomerID1','CustomerID2','Similarity'])\n",
    "for i in range(1,2):\n",
    "     sim_mtrx2 = pd.DataFrame(columns=['CustomerID1','CustomerID2','Similarity'])     \n",
    "     for y in tqdm(data_cl.index):\n",
    "          if y==i:\n",
    "               continue\n",
    "          #ordinals\n",
    "          #rr = rating_dissimilarities(data_cl['RatingRank'], i, y)\n",
    "          er = education_dissimilarities(data_cl['EduRank'], i, y)\n",
    "          #nominals\n",
    "          jb = nominal_dissimilarities(data_cl['Job'], i, y)\n",
    "          mr = nominal_dissimilarities(data_cl['Marital'], i, y)\n",
    "          df = nominal_dissimilarities(data_cl['Default'], i, y)\n",
    "          hs = nominal_dissimilarities(data_cl['Housing'], i, y)\n",
    "          ln = nominal_dissimilarities(data_cl['Loan'], i, y)\n",
    "          #products set\n",
    "          prd = 1 - jaccard_sim(data_cl['Products'], i, y)\n",
    "          #numerical\n",
    "          ag = age_dissimilarities(data_cl['Age'], i, y)\n",
    "          bal = balance_dissimilarities(data_cl['Balance'], i, y)\n",
    "          #aggregation\n",
    "          ttl = (1 - ((er+jb+mr+df+hs+ln+prd+ag+bal)/9))\n",
    "          res = {\"CustomerID1\" : i, \"CustomerID2\": y, \"Similarity\": ttl}\n",
    "          df_res2 = pd.DataFrame([res])\n",
    "          # appending the result of y itteration\n",
    "          sim_mtrx2 = pd.concat([sim_mtrx2, df_res2], axis=0)\n",
    "     # for all the customers, keeping to the final dataframe only top 10 nearest neighbors\n",
    "     df_nn_final2 = pd.concat([df_nn_final2, sim_mtrx2.nlargest(10, 'Similarity')], axis=0)\n",
    "# finding the rating of NN10 and make the predictions\n",
    "df_prediction = pd.merge(df_nn_final2, data_cl['RatingRank'], how='left', left_on=\"CustomerID2\", right_on=data_cl.index)\n",
    "df_prediction_final = df_prediction.groupby('CustomerID1')[['RatingRank']].mean().round(0)\n",
    "df_prediction_final['WeightedAvg'] = df_prediction.groupby('CustomerID1').apply(lambda x: np.average(x.RatingRank, weights=x.Similarity))#.round(0)"
   ]
  },
  {
   "cell_type": "code",
   "execution_count": null,
   "metadata": {},
   "outputs": [],
   "source": [
    "df_prediction_final.to_csv(\"./predictions_final.csv\")"
   ]
  },
  {
   "cell_type": "markdown",
   "metadata": {},
   "source": [
    "* If you have prefered not to run the loop, load the above cell with results."
   ]
  },
  {
   "cell_type": "code",
   "execution_count": null,
   "metadata": {},
   "outputs": [],
   "source": [
    "df_prediction_final = pd.read_csv(\"./predictions_final.csv\")\n",
    "df_prediction_final"
   ]
  },
  {
   "cell_type": "code",
   "execution_count": 52,
   "metadata": {},
   "outputs": [
    {
     "data": {
      "text/html": [
       "<div>\n",
       "<style scoped>\n",
       "    .dataframe tbody tr th:only-of-type {\n",
       "        vertical-align: middle;\n",
       "    }\n",
       "\n",
       "    .dataframe tbody tr th {\n",
       "        vertical-align: top;\n",
       "    }\n",
       "\n",
       "    .dataframe thead th {\n",
       "        text-align: right;\n",
       "    }\n",
       "</style>\n",
       "<table border=\"1\" class=\"dataframe\">\n",
       "  <thead>\n",
       "    <tr style=\"text-align: right;\">\n",
       "      <th></th>\n",
       "      <th>CustomerID1</th>\n",
       "      <th>CustomerID2</th>\n",
       "      <th>Similarity</th>\n",
       "    </tr>\n",
       "  </thead>\n",
       "  <tbody>\n",
       "    <tr>\n",
       "      <th>0</th>\n",
       "      <td>1</td>\n",
       "      <td>14687</td>\n",
       "      <td>0.959280</td>\n",
       "    </tr>\n",
       "    <tr>\n",
       "      <th>0</th>\n",
       "      <td>1</td>\n",
       "      <td>31407</td>\n",
       "      <td>0.952460</td>\n",
       "    </tr>\n",
       "    <tr>\n",
       "      <th>0</th>\n",
       "      <td>1</td>\n",
       "      <td>11417</td>\n",
       "      <td>0.949420</td>\n",
       "    </tr>\n",
       "    <tr>\n",
       "      <th>0</th>\n",
       "      <td>1</td>\n",
       "      <td>35076</td>\n",
       "      <td>0.944031</td>\n",
       "    </tr>\n",
       "    <tr>\n",
       "      <th>0</th>\n",
       "      <td>1</td>\n",
       "      <td>37777</td>\n",
       "      <td>0.942900</td>\n",
       "    </tr>\n",
       "    <tr>\n",
       "      <th>0</th>\n",
       "      <td>1</td>\n",
       "      <td>9900</td>\n",
       "      <td>0.942683</td>\n",
       "    </tr>\n",
       "    <tr>\n",
       "      <th>0</th>\n",
       "      <td>1</td>\n",
       "      <td>33675</td>\n",
       "      <td>0.941355</td>\n",
       "    </tr>\n",
       "    <tr>\n",
       "      <th>0</th>\n",
       "      <td>1</td>\n",
       "      <td>30740</td>\n",
       "      <td>0.939599</td>\n",
       "    </tr>\n",
       "    <tr>\n",
       "      <th>0</th>\n",
       "      <td>1</td>\n",
       "      <td>25211</td>\n",
       "      <td>0.937194</td>\n",
       "    </tr>\n",
       "    <tr>\n",
       "      <th>0</th>\n",
       "      <td>1</td>\n",
       "      <td>3880</td>\n",
       "      <td>0.937126</td>\n",
       "    </tr>\n",
       "  </tbody>\n",
       "</table>\n",
       "</div>"
      ],
      "text/plain": [
       "  CustomerID1 CustomerID2  Similarity\n",
       "0           1       14687    0.959280\n",
       "0           1       31407    0.952460\n",
       "0           1       11417    0.949420\n",
       "0           1       35076    0.944031\n",
       "0           1       37777    0.942900\n",
       "0           1        9900    0.942683\n",
       "0           1       33675    0.941355\n",
       "0           1       30740    0.939599\n",
       "0           1       25211    0.937194\n",
       "0           1        3880    0.937126"
      ]
     },
     "execution_count": 52,
     "metadata": {},
     "output_type": "execute_result"
    }
   ],
   "source": [
    "df_nn_final2"
   ]
  },
  {
   "cell_type": "code",
   "execution_count": 51,
   "metadata": {},
   "outputs": [
    {
     "data": {
      "text/html": [
       "<div>\n",
       "<style scoped>\n",
       "    .dataframe tbody tr th:only-of-type {\n",
       "        vertical-align: middle;\n",
       "    }\n",
       "\n",
       "    .dataframe tbody tr th {\n",
       "        vertical-align: top;\n",
       "    }\n",
       "\n",
       "    .dataframe thead th {\n",
       "        text-align: right;\n",
       "    }\n",
       "</style>\n",
       "<table border=\"1\" class=\"dataframe\">\n",
       "  <thead>\n",
       "    <tr style=\"text-align: right;\">\n",
       "      <th></th>\n",
       "      <th>CustomerID1</th>\n",
       "      <th>RatingRank_prd</th>\n",
       "      <th>WeightedAvg</th>\n",
       "      <th>RatingRank_act</th>\n",
       "    </tr>\n",
       "  </thead>\n",
       "  <tbody>\n",
       "    <tr>\n",
       "      <th>0</th>\n",
       "      <td>1</td>\n",
       "      <td>3.0</td>\n",
       "      <td>2.900203</td>\n",
       "      <td>3</td>\n",
       "    </tr>\n",
       "  </tbody>\n",
       "</table>\n",
       "</div>"
      ],
      "text/plain": [
       "   CustomerID1  RatingRank_prd  WeightedAvg  RatingRank_act\n",
       "0            1             3.0     2.900203               3"
      ]
     },
     "execution_count": 51,
     "metadata": {},
     "output_type": "execute_result"
    }
   ],
   "source": [
    "df_prediction_final_v2 = pd.merge(df_prediction_final, data_cl['RatingRank'], how='left', left_on='CustomerID1', right_on=data_cl.index, suffixes=[\"_prd\", \"_act\"])\n",
    "df_prediction_final_v2.head()"
   ]
  },
  {
   "cell_type": "code",
   "execution_count": null,
   "metadata": {},
   "outputs": [],
   "source": [
    "from sklearn.metrics import mean_absolute_error"
   ]
  },
  {
   "cell_type": "code",
   "execution_count": null,
   "metadata": {},
   "outputs": [],
   "source": [
    "df_prediction_final_v2['RatingRank_error'] = df_prediction_final_v2['RatingRank_act'] - df_prediction_final_v2['RatingRank_prd']\n",
    "df_prediction_final_v2['WeightedAvg_error'] = df_prediction_final_v2['RatingRank_act'] - df_prediction_final_v2['WeightedAvg']"
   ]
  },
  {
   "cell_type": "code",
   "execution_count": null,
   "metadata": {},
   "outputs": [],
   "source": [
    "print(mean_absolute_error(df_prediction_final_v2['RatingRank_act'], df_prediction_final_v2['RatingRank_prd']))\n",
    "print(mean_absolute_error(df_prediction_final_v2['RatingRank_act'], df_prediction_final_v2['WeightedAvg']))"
   ]
  }
 ],
 "metadata": {
  "interpreter": {
   "hash": "bf98401a91ee1a5395fbbae5369b9c68df7679f0bf867f7099e474eea4e57d71"
  },
  "kernelspec": {
   "display_name": "Python 3.8.8 ('base')",
   "language": "python",
   "name": "python3"
  },
  "language_info": {
   "codemirror_mode": {
    "name": "ipython",
    "version": 3
   },
   "file_extension": ".py",
   "mimetype": "text/x-python",
   "name": "python",
   "nbconvert_exporter": "python",
   "pygments_lexer": "ipython3",
   "version": "3.8.8"
  },
  "orig_nbformat": 4
 },
 "nbformat": 4,
 "nbformat_minor": 2
}
